{
 "cells": [
  {
   "cell_type": "markdown",
   "id": "1891118b",
   "metadata": {},
   "source": [
    "# Book_<파이썬 Jupyter Notebook 실전 입문>_#3장_Pandas 데이터 처리\n",
    "\n",
    "#### 출판사 '터닝포인트'\n",
    "#### 이케우치 타카히로, 카타야나기 노부코, 이와오 엠마 하루카, @driller 지음"
   ]
  },
  {
   "cell_type": "markdown",
   "id": "c098ced6",
   "metadata": {
    "heading_collapsed": true,
    "slideshow": {
     "slide_type": "-"
    }
   },
   "source": [
    "#### 판다스(Pandas)란?\n",
    "    레이블이 부여된 데이터를 쉽고 직관적으로 취급할 수 있도록 설계된 Python 서드파티 패키지\n",
    "    Pandas의 두 가지 주요 데이터구조인 1) Series(1차원 데이터)와 2)DataFrame(2차원 데이터)은 금융, 통계 사회과학 등 많은 분야의 데이터 처리에 적합하다."
   ]
  },
  {
   "cell_type": "markdown",
   "id": "b572fb4a",
   "metadata": {},
   "source": [
    "## 3-2 Sample Data 설명"
   ]
  },
  {
   "cell_type": "code",
   "execution_count": 1,
   "id": "b73267ce",
   "metadata": {
    "scrolled": false
   },
   "outputs": [
    {
     "data": {
      "text/html": [
       "<div>\n",
       "<style scoped>\n",
       "    .dataframe tbody tr th:only-of-type {\n",
       "        vertical-align: middle;\n",
       "    }\n",
       "\n",
       "    .dataframe tbody tr th {\n",
       "        vertical-align: top;\n",
       "    }\n",
       "\n",
       "    .dataframe thead th {\n",
       "        text-align: right;\n",
       "    }\n",
       "</style>\n",
       "<table border=\"1\" class=\"dataframe\">\n",
       "  <thead>\n",
       "    <tr style=\"text-align: right;\">\n",
       "      <th></th>\n",
       "      <th>anime_id</th>\n",
       "      <th>name</th>\n",
       "      <th>genre</th>\n",
       "      <th>type</th>\n",
       "      <th>episodes</th>\n",
       "      <th>rating</th>\n",
       "      <th>members</th>\n",
       "    </tr>\n",
       "  </thead>\n",
       "  <tbody>\n",
       "    <tr>\n",
       "      <th>0</th>\n",
       "      <td>20707</td>\n",
       "      <td>\"0\"</td>\n",
       "      <td>Music</td>\n",
       "      <td>Music</td>\n",
       "      <td>1</td>\n",
       "      <td>5.06</td>\n",
       "      <td>1170</td>\n",
       "    </tr>\n",
       "    <tr>\n",
       "      <th>1</th>\n",
       "      <td>25627</td>\n",
       "      <td>\"Aesop\" no Ohanashi yori: Ushi to Kaeru, Yokub...</td>\n",
       "      <td>Kids</td>\n",
       "      <td>Movie</td>\n",
       "      <td>1</td>\n",
       "      <td>5.00</td>\n",
       "      <td>113</td>\n",
       "    </tr>\n",
       "    <tr>\n",
       "      <th>2</th>\n",
       "      <td>7669</td>\n",
       "      <td>\"Bungaku Shoujo\" Kyou no Oyatsu: Hatsukoi</td>\n",
       "      <td>Comedy</td>\n",
       "      <td>OVA</td>\n",
       "      <td>1</td>\n",
       "      <td>7.06</td>\n",
       "      <td>14351</td>\n",
       "    </tr>\n",
       "    <tr>\n",
       "      <th>3</th>\n",
       "      <td>7669</td>\n",
       "      <td>\"Bungaku Shoujo\" Kyou no Oyatsu: Hatsukoi</td>\n",
       "      <td>School</td>\n",
       "      <td>OVA</td>\n",
       "      <td>1</td>\n",
       "      <td>7.06</td>\n",
       "      <td>14351</td>\n",
       "    </tr>\n",
       "    <tr>\n",
       "      <th>4</th>\n",
       "      <td>7669</td>\n",
       "      <td>\"Bungaku Shoujo\" Kyou no Oyatsu: Hatsukoi</td>\n",
       "      <td>Fantasy</td>\n",
       "      <td>OVA</td>\n",
       "      <td>1</td>\n",
       "      <td>7.06</td>\n",
       "      <td>14351</td>\n",
       "    </tr>\n",
       "  </tbody>\n",
       "</table>\n",
       "</div>"
      ],
      "text/plain": [
       "   anime_id                                               name    genre  \\\n",
       "0     20707                                                \"0\"    Music   \n",
       "1     25627  \"Aesop\" no Ohanashi yori: Ushi to Kaeru, Yokub...     Kids   \n",
       "2      7669          \"Bungaku Shoujo\" Kyou no Oyatsu: Hatsukoi   Comedy   \n",
       "3      7669          \"Bungaku Shoujo\" Kyou no Oyatsu: Hatsukoi   School   \n",
       "4      7669          \"Bungaku Shoujo\" Kyou no Oyatsu: Hatsukoi  Fantasy   \n",
       "\n",
       "    type  episodes  rating  members  \n",
       "0  Music         1    5.06     1170  \n",
       "1  Movie         1    5.00      113  \n",
       "2    OVA         1    7.06    14351  \n",
       "3    OVA         1    7.06    14351  \n",
       "4    OVA         1    7.06    14351  "
      ]
     },
     "execution_count": 1,
     "metadata": {},
     "output_type": "execute_result"
    }
   ],
   "source": [
    "import os\n",
    "import pandas as pd\n",
    "\n",
    "base_url = 'https://raw.githubusercontent.com/practical-jupyter/sample-data/master/anime/'\n",
    "anime_csv = os.path.join(base_url, 'anime_split_genre.csv')\n",
    "\n",
    "pd.read_csv(anime_csv).head()"
   ]
  },
  {
   "cell_type": "code",
   "execution_count": 2,
   "id": "4f5ec7dc",
   "metadata": {
    "scrolled": true
   },
   "outputs": [
    {
     "data": {
      "text/html": [
       "<div>\n",
       "<style scoped>\n",
       "    .dataframe tbody tr th:only-of-type {\n",
       "        vertical-align: middle;\n",
       "    }\n",
       "\n",
       "    .dataframe tbody tr th {\n",
       "        vertical-align: top;\n",
       "    }\n",
       "\n",
       "    .dataframe thead th {\n",
       "        text-align: right;\n",
       "    }\n",
       "</style>\n",
       "<table border=\"1\" class=\"dataframe\">\n",
       "  <thead>\n",
       "    <tr style=\"text-align: right;\">\n",
       "      <th></th>\n",
       "      <th>TOEI ANIMATION</th>\n",
       "      <th>IG Port</th>\n",
       "    </tr>\n",
       "    <tr>\n",
       "      <th>Date</th>\n",
       "      <th></th>\n",
       "      <th></th>\n",
       "    </tr>\n",
       "  </thead>\n",
       "  <tbody>\n",
       "    <tr>\n",
       "      <th>2015-01-01</th>\n",
       "      <td>3356.86</td>\n",
       "      <td>1201.51</td>\n",
       "    </tr>\n",
       "    <tr>\n",
       "      <th>2015-01-02</th>\n",
       "      <td>3356.86</td>\n",
       "      <td>1201.51</td>\n",
       "    </tr>\n",
       "    <tr>\n",
       "      <th>2015-01-05</th>\n",
       "      <td>3396.12</td>\n",
       "      <td>1218.44</td>\n",
       "    </tr>\n",
       "    <tr>\n",
       "      <th>2015-01-06</th>\n",
       "      <td>3361.77</td>\n",
       "      <td>1201.51</td>\n",
       "    </tr>\n",
       "    <tr>\n",
       "      <th>2015-01-07</th>\n",
       "      <td>3297.97</td>\n",
       "      <td>1202.51</td>\n",
       "    </tr>\n",
       "  </tbody>\n",
       "</table>\n",
       "</div>"
      ],
      "text/plain": [
       "            TOEI ANIMATION  IG Port\n",
       "Date                               \n",
       "2015-01-01         3356.86  1201.51\n",
       "2015-01-02         3356.86  1201.51\n",
       "2015-01-05         3396.12  1218.44\n",
       "2015-01-06         3361.77  1201.51\n",
       "2015-01-07         3297.97  1202.51"
      ]
     },
     "execution_count": 2,
     "metadata": {},
     "output_type": "execute_result"
    }
   ],
   "source": [
    "anime_csv = os.path.join(base_url, 'anime_stock_price.csv')\n",
    "pd.read_csv(anime_csv, index_col=0, parse_dates=['Date']).head()"
   ]
  },
  {
   "cell_type": "code",
   "execution_count": 3,
   "id": "c0e52f9b",
   "metadata": {},
   "outputs": [
    {
     "data": {
      "text/html": [
       "<div>\n",
       "<style scoped>\n",
       "    .dataframe tbody tr th:only-of-type {\n",
       "        vertical-align: middle;\n",
       "    }\n",
       "\n",
       "    .dataframe tbody tr th {\n",
       "        vertical-align: top;\n",
       "    }\n",
       "\n",
       "    .dataframe thead th {\n",
       "        text-align: right;\n",
       "    }\n",
       "</style>\n",
       "<table border=\"1\" class=\"dataframe\">\n",
       "  <thead>\n",
       "    <tr style=\"text-align: right;\">\n",
       "      <th></th>\n",
       "      <th>Open</th>\n",
       "      <th>High</th>\n",
       "      <th>Low</th>\n",
       "      <th>Close</th>\n",
       "      <th>Volume</th>\n",
       "    </tr>\n",
       "    <tr>\n",
       "      <th>Date</th>\n",
       "      <th></th>\n",
       "      <th></th>\n",
       "      <th></th>\n",
       "      <th></th>\n",
       "      <th></th>\n",
       "    </tr>\n",
       "  </thead>\n",
       "  <tbody>\n",
       "    <tr>\n",
       "      <th>2010-01-04</th>\n",
       "      <td>1600.0</td>\n",
       "      <td>1600.0</td>\n",
       "      <td>1580.0</td>\n",
       "      <td>1597.0</td>\n",
       "      <td>5600.0</td>\n",
       "    </tr>\n",
       "    <tr>\n",
       "      <th>2010-01-05</th>\n",
       "      <td>1597.0</td>\n",
       "      <td>1605.0</td>\n",
       "      <td>1590.0</td>\n",
       "      <td>1600.0</td>\n",
       "      <td>14800.0</td>\n",
       "    </tr>\n",
       "    <tr>\n",
       "      <th>2010-01-06</th>\n",
       "      <td>1600.0</td>\n",
       "      <td>1602.0</td>\n",
       "      <td>1579.0</td>\n",
       "      <td>1601.0</td>\n",
       "      <td>8300.0</td>\n",
       "    </tr>\n",
       "    <tr>\n",
       "      <th>2010-01-07</th>\n",
       "      <td>1600.0</td>\n",
       "      <td>1600.0</td>\n",
       "      <td>1590.0</td>\n",
       "      <td>1595.0</td>\n",
       "      <td>3700.0</td>\n",
       "    </tr>\n",
       "    <tr>\n",
       "      <th>2010-01-08</th>\n",
       "      <td>1599.0</td>\n",
       "      <td>1601.0</td>\n",
       "      <td>1595.0</td>\n",
       "      <td>1600.0</td>\n",
       "      <td>32300.0</td>\n",
       "    </tr>\n",
       "  </tbody>\n",
       "</table>\n",
       "</div>"
      ],
      "text/plain": [
       "              Open    High     Low   Close   Volume\n",
       "Date                                               \n",
       "2010-01-04  1600.0  1600.0  1580.0  1597.0   5600.0\n",
       "2010-01-05  1597.0  1605.0  1590.0  1600.0  14800.0\n",
       "2010-01-06  1600.0  1602.0  1579.0  1601.0   8300.0\n",
       "2010-01-07  1600.0  1600.0  1590.0  1595.0   3700.0\n",
       "2010-01-08  1599.0  1601.0  1595.0  1600.0  32300.0"
      ]
     },
     "execution_count": 3,
     "metadata": {},
     "output_type": "execute_result"
    }
   ],
   "source": [
    "anime_csv = os.path.join(base_url, '4816.csv')\n",
    "pd.read_csv(anime_csv, index_col=0, parse_dates=['Date']).head()"
   ]
  },
  {
   "cell_type": "markdown",
   "id": "db29a8c7",
   "metadata": {},
   "source": [
    "## 3-3 Series\n",
    "\n",
    "    #특징\n",
    "    index(label)를 가지는 1차원 데이터\n",
    "    index는 중복 가능\n",
    "    lable 또는 데이터 위치를 지정한 추출 가능. \n",
    "    index 슬라이스 가능\n",
    "    산술 연산 가능. 통계량 산출 가능.\n",
    "    \n",
    "    #제1인수\n",
    "    - list\n",
    "    - tuple\n",
    "    - dictionary\n",
    "    - numpy.ndarray\n",
    "    \n",
    "    #ex\n",
    "    index | values\n",
    "    index | values\n",
    "    index | values\n",
    "    .."
   ]
  },
  {
   "cell_type": "code",
   "execution_count": 4,
   "id": "1d737b8d",
   "metadata": {
    "code_folding": [],
    "scrolled": true
   },
   "outputs": [
    {
     "data": {
      "text/plain": [
       "a    1\n",
       "b    2\n",
       "c    3\n",
       "dtype: int64"
      ]
     },
     "execution_count": 4,
     "metadata": {},
     "output_type": "execute_result"
    }
   ],
   "source": [
    "# index 지정할 경우\n",
    "import pandas as pd\n",
    "\n",
    "ser = pd.Series([1, 2, 3], index=['a', 'b', 'c'])\n",
    "ser"
   ]
  },
  {
   "cell_type": "code",
   "execution_count": 5,
   "id": "18472b6d",
   "metadata": {
    "code_folding": [],
    "scrolled": true
   },
   "outputs": [
    {
     "data": {
      "text/plain": [
       "0    1\n",
       "1    2\n",
       "2    3\n",
       "dtype: int64"
      ]
     },
     "execution_count": 5,
     "metadata": {},
     "output_type": "execute_result"
    }
   ],
   "source": [
    "# index 생략할 경우\n",
    "pd.Series([1, 2, 3])"
   ]
  },
  {
   "cell_type": "code",
   "execution_count": 6,
   "id": "b39b984c",
   "metadata": {},
   "outputs": [
    {
     "data": {
      "text/plain": [
       "2"
      ]
     },
     "execution_count": 6,
     "metadata": {},
     "output_type": "execute_result"
    }
   ],
   "source": [
    "# Series.loc : lable(index) 사용해서 데이터 선택하기\n",
    "\n",
    "ser.loc['b']"
   ]
  },
  {
   "cell_type": "code",
   "execution_count": 7,
   "id": "2216310c",
   "metadata": {},
   "outputs": [
    {
     "data": {
      "text/plain": [
       "2"
      ]
     },
     "execution_count": 7,
     "metadata": {},
     "output_type": "execute_result"
    }
   ],
   "source": [
    "# loc 생략해서 데이터 선택하기\n",
    "ser['b']"
   ]
  },
  {
   "cell_type": "code",
   "execution_count": 8,
   "id": "de85a95a",
   "metadata": {},
   "outputs": [
    {
     "data": {
      "text/plain": [
       "b    2\n",
       "c    3\n",
       "dtype: int64"
      ]
     },
     "execution_count": 8,
     "metadata": {},
     "output_type": "execute_result"
    }
   ],
   "source": [
    "# label 범위 지정해서 데이터 선택하기\n",
    "ser.loc['b':'c']"
   ]
  },
  {
   "cell_type": "code",
   "execution_count": 9,
   "id": "b6ced1fc",
   "metadata": {
    "scrolled": true
   },
   "outputs": [
    {
     "data": {
      "text/plain": [
       "a    1\n",
       "c    3\n",
       "dtype: int64"
      ]
     },
     "execution_count": 9,
     "metadata": {},
     "output_type": "execute_result"
    }
   ],
   "source": [
    "# 복수 요소 지정\n",
    "ser.loc[['a', 'c']] #list"
   ]
  },
  {
   "cell_type": "code",
   "execution_count": 10,
   "id": "cd9e7ed5",
   "metadata": {
    "scrolled": true
   },
   "outputs": [
    {
     "data": {
      "text/plain": [
       "b    2\n",
       "c    3\n",
       "dtype: int64"
      ]
     },
     "execution_count": 10,
     "metadata": {},
     "output_type": "execute_result"
    }
   ],
   "source": [
    "#Series.iloc : 데이터 위치를 정수값으로 지정해 데이터 선택\n",
    "\n",
    "ser.iloc[1]\n",
    "ser.iloc[1:3]\n"
   ]
  },
  {
   "cell_type": "code",
   "execution_count": 11,
   "id": "90de8bd2",
   "metadata": {},
   "outputs": [
    {
     "data": {
      "text/plain": [
       "a    1\n",
       "c    3\n",
       "dtype: int64"
      ]
     },
     "execution_count": 11,
     "metadata": {},
     "output_type": "execute_result"
    }
   ],
   "source": [
    "# 논리값 지정해 데이터 선택\n",
    "ser.loc[[True, False, True]]"
   ]
  },
  {
   "cell_type": "code",
   "execution_count": 12,
   "id": "c3f36234",
   "metadata": {
    "scrolled": false
   },
   "outputs": [
    {
     "data": {
      "text/plain": [
       "a     True\n",
       "b    False\n",
       "c     True\n",
       "dtype: bool"
      ]
     },
     "execution_count": 12,
     "metadata": {},
     "output_type": "execute_result"
    }
   ],
   "source": [
    "# Series에 대한 비교 연산\n",
    "ser != 2"
   ]
  },
  {
   "cell_type": "code",
   "execution_count": 13,
   "id": "0c9a99c8",
   "metadata": {
    "scrolled": true
   },
   "outputs": [
    {
     "data": {
      "text/plain": [
       "a    1\n",
       "c    3\n",
       "dtype: int64"
      ]
     },
     "execution_count": 13,
     "metadata": {},
     "output_type": "execute_result"
    }
   ],
   "source": [
    "# 비교 연산 이용한 데이터 추출\n",
    "ser[ser !=2]"
   ]
  },
  {
   "cell_type": "markdown",
   "id": "89ba8bcd",
   "metadata": {},
   "source": [
    "## 3-4 DataFrame\n",
    "\n",
    "    DataFrame은 행과 열에 레이블을 가진 2차원 데이터.\n",
    "    \n",
    "    #인수\n",
    "    - 1차원 또는 2차원 데이터"
   ]
  },
  {
   "cell_type": "code",
   "execution_count": 14,
   "id": "e18e655c",
   "metadata": {},
   "outputs": [
    {
     "data": {
      "text/html": [
       "<div>\n",
       "<style scoped>\n",
       "    .dataframe tbody tr th:only-of-type {\n",
       "        vertical-align: middle;\n",
       "    }\n",
       "\n",
       "    .dataframe tbody tr th {\n",
       "        vertical-align: top;\n",
       "    }\n",
       "\n",
       "    .dataframe thead th {\n",
       "        text-align: right;\n",
       "    }\n",
       "</style>\n",
       "<table border=\"1\" class=\"dataframe\">\n",
       "  <thead>\n",
       "    <tr style=\"text-align: right;\">\n",
       "      <th></th>\n",
       "      <th>c1</th>\n",
       "      <th>c2</th>\n",
       "      <th>c3</th>\n",
       "    </tr>\n",
       "  </thead>\n",
       "  <tbody>\n",
       "    <tr>\n",
       "      <th>r1</th>\n",
       "      <td>1</td>\n",
       "      <td>10</td>\n",
       "      <td>100</td>\n",
       "    </tr>\n",
       "    <tr>\n",
       "      <th>r2</th>\n",
       "      <td>2</td>\n",
       "      <td>20</td>\n",
       "      <td>200</td>\n",
       "    </tr>\n",
       "    <tr>\n",
       "      <th>r3</th>\n",
       "      <td>3</td>\n",
       "      <td>30</td>\n",
       "      <td>300</td>\n",
       "    </tr>\n",
       "  </tbody>\n",
       "</table>\n",
       "</div>"
      ],
      "text/plain": [
       "    c1  c2   c3\n",
       "r1   1  10  100\n",
       "r2   2  20  200\n",
       "r3   3  30  300"
      ]
     },
     "execution_count": 14,
     "metadata": {},
     "output_type": "execute_result"
    }
   ],
   "source": [
    "# basic code\n",
    "\n",
    "df = pd.DataFrame([[1, 10, 100], [2, 20, 200], [3, 30, 300]],\n",
    "                 index=['r1', 'r2', 'r3'],\n",
    "                 columns=['c1', 'c2', 'c3'])\n",
    "df"
   ]
  },
  {
   "cell_type": "code",
   "execution_count": 15,
   "id": "56649da1",
   "metadata": {},
   "outputs": [
    {
     "data": {
      "text/plain": [
       "20"
      ]
     },
     "execution_count": 15,
     "metadata": {},
     "output_type": "execute_result"
    }
   ],
   "source": [
    "# label 사용해서 데이터 선택\n",
    "df.loc['r2', 'c2']"
   ]
  },
  {
   "cell_type": "code",
   "execution_count": 16,
   "id": "f4c9e54a",
   "metadata": {
    "scrolled": true
   },
   "outputs": [
    {
     "data": {
      "text/plain": [
       "c1      2\n",
       "c2     20\n",
       "c3    200\n",
       "Name: r2, dtype: int64"
      ]
     },
     "execution_count": 16,
     "metadata": {},
     "output_type": "execute_result"
    }
   ],
   "source": [
    "# 모든 행(열) 지정하는 경우 - [:]\n",
    "df.loc['r2',:]"
   ]
  },
  {
   "cell_type": "code",
   "execution_count": 17,
   "id": "4bcc23ae",
   "metadata": {
    "scrolled": true
   },
   "outputs": [
    {
     "data": {
      "text/plain": [
       "r1    10\n",
       "r2    20\n",
       "r3    30\n",
       "Name: c2, dtype: int64"
      ]
     },
     "execution_count": 17,
     "metadata": {},
     "output_type": "execute_result"
    }
   ],
   "source": [
    "df.loc[:, 'c2']"
   ]
  },
  {
   "cell_type": "code",
   "execution_count": 18,
   "id": "cde8b220",
   "metadata": {
    "scrolled": true
   },
   "outputs": [
    {
     "data": {
      "text/html": [
       "<div>\n",
       "<style scoped>\n",
       "    .dataframe tbody tr th:only-of-type {\n",
       "        vertical-align: middle;\n",
       "    }\n",
       "\n",
       "    .dataframe tbody tr th {\n",
       "        vertical-align: top;\n",
       "    }\n",
       "\n",
       "    .dataframe thead th {\n",
       "        text-align: right;\n",
       "    }\n",
       "</style>\n",
       "<table border=\"1\" class=\"dataframe\">\n",
       "  <thead>\n",
       "    <tr style=\"text-align: right;\">\n",
       "      <th></th>\n",
       "      <th>c2</th>\n",
       "      <th>c3</th>\n",
       "    </tr>\n",
       "  </thead>\n",
       "  <tbody>\n",
       "    <tr>\n",
       "      <th>r1</th>\n",
       "      <td>10</td>\n",
       "      <td>100</td>\n",
       "    </tr>\n",
       "    <tr>\n",
       "      <th>r3</th>\n",
       "      <td>30</td>\n",
       "      <td>300</td>\n",
       "    </tr>\n",
       "  </tbody>\n",
       "</table>\n",
       "</div>"
      ],
      "text/plain": [
       "    c2   c3\n",
       "r1  10  100\n",
       "r3  30  300"
      ]
     },
     "execution_count": 18,
     "metadata": {},
     "output_type": "execute_result"
    }
   ],
   "source": [
    "# 슬라이스 또는 리스트 넘겨주기\n",
    "df.loc[['r1', 'r3'], 'c2':'c3']"
   ]
  },
  {
   "cell_type": "code",
   "execution_count": 19,
   "id": "2896dba9",
   "metadata": {
    "scrolled": true
   },
   "outputs": [
    {
     "data": {
      "text/html": [
       "<div>\n",
       "<style scoped>\n",
       "    .dataframe tbody tr th:only-of-type {\n",
       "        vertical-align: middle;\n",
       "    }\n",
       "\n",
       "    .dataframe tbody tr th {\n",
       "        vertical-align: top;\n",
       "    }\n",
       "\n",
       "    .dataframe thead th {\n",
       "        text-align: right;\n",
       "    }\n",
       "</style>\n",
       "<table border=\"1\" class=\"dataframe\">\n",
       "  <thead>\n",
       "    <tr style=\"text-align: right;\">\n",
       "      <th></th>\n",
       "      <th>c1</th>\n",
       "      <th>c3</th>\n",
       "    </tr>\n",
       "  </thead>\n",
       "  <tbody>\n",
       "    <tr>\n",
       "      <th>r2</th>\n",
       "      <td>2</td>\n",
       "      <td>200</td>\n",
       "    </tr>\n",
       "    <tr>\n",
       "      <th>r3</th>\n",
       "      <td>3</td>\n",
       "      <td>300</td>\n",
       "    </tr>\n",
       "  </tbody>\n",
       "</table>\n",
       "</div>"
      ],
      "text/plain": [
       "    c1   c3\n",
       "r2   2  200\n",
       "r3   3  300"
      ]
     },
     "execution_count": 19,
     "metadata": {},
     "output_type": "execute_result"
    }
   ],
   "source": [
    "# iloc 활용해 데이터 선택 \n",
    "# * iloc : Purely integer-location based indexing for selection by position.\n",
    "\n",
    "df.iloc[1:3, [0, 2]]"
   ]
  },
  {
   "cell_type": "code",
   "execution_count": 20,
   "id": "727d32de",
   "metadata": {
    "scrolled": true
   },
   "outputs": [
    {
     "data": {
      "text/plain": [
       "r1    10\n",
       "r2    20\n",
       "r3    30\n",
       "Name: c2, dtype: int64"
      ]
     },
     "execution_count": 20,
     "metadata": {},
     "output_type": "execute_result"
    }
   ],
   "source": [
    "# 열 이름 지정해서 데이터 선택\n",
    "df['c2']"
   ]
  },
  {
   "cell_type": "code",
   "execution_count": 21,
   "id": "6f822d92",
   "metadata": {
    "scrolled": true
   },
   "outputs": [
    {
     "data": {
      "text/html": [
       "<div>\n",
       "<style scoped>\n",
       "    .dataframe tbody tr th:only-of-type {\n",
       "        vertical-align: middle;\n",
       "    }\n",
       "\n",
       "    .dataframe tbody tr th {\n",
       "        vertical-align: top;\n",
       "    }\n",
       "\n",
       "    .dataframe thead th {\n",
       "        text-align: right;\n",
       "    }\n",
       "</style>\n",
       "<table border=\"1\" class=\"dataframe\">\n",
       "  <thead>\n",
       "    <tr style=\"text-align: right;\">\n",
       "      <th></th>\n",
       "      <th>c1</th>\n",
       "      <th>c2</th>\n",
       "      <th>c3</th>\n",
       "    </tr>\n",
       "  </thead>\n",
       "  <tbody>\n",
       "    <tr>\n",
       "      <th>r1</th>\n",
       "      <td>False</td>\n",
       "      <td>False</td>\n",
       "      <td>True</td>\n",
       "    </tr>\n",
       "    <tr>\n",
       "      <th>r2</th>\n",
       "      <td>False</td>\n",
       "      <td>True</td>\n",
       "      <td>True</td>\n",
       "    </tr>\n",
       "    <tr>\n",
       "      <th>r3</th>\n",
       "      <td>False</td>\n",
       "      <td>True</td>\n",
       "      <td>True</td>\n",
       "    </tr>\n",
       "  </tbody>\n",
       "</table>\n",
       "</div>"
      ],
      "text/plain": [
       "       c1     c2    c3\n",
       "r1  False  False  True\n",
       "r2  False   True  True\n",
       "r3  False   True  True"
      ]
     },
     "execution_count": 21,
     "metadata": {},
     "output_type": "execute_result"
    }
   ],
   "source": [
    "# 논리값 사용해 데이터 선택\n",
    "df > 10"
   ]
  },
  {
   "cell_type": "code",
   "execution_count": 22,
   "id": "966937f8",
   "metadata": {
    "scrolled": true
   },
   "outputs": [
    {
     "data": {
      "text/html": [
       "<div>\n",
       "<style scoped>\n",
       "    .dataframe tbody tr th:only-of-type {\n",
       "        vertical-align: middle;\n",
       "    }\n",
       "\n",
       "    .dataframe tbody tr th {\n",
       "        vertical-align: top;\n",
       "    }\n",
       "\n",
       "    .dataframe thead th {\n",
       "        text-align: right;\n",
       "    }\n",
       "</style>\n",
       "<table border=\"1\" class=\"dataframe\">\n",
       "  <thead>\n",
       "    <tr style=\"text-align: right;\">\n",
       "      <th></th>\n",
       "      <th>c1</th>\n",
       "      <th>c2</th>\n",
       "      <th>c3</th>\n",
       "    </tr>\n",
       "  </thead>\n",
       "  <tbody>\n",
       "    <tr>\n",
       "      <th>r2</th>\n",
       "      <td>2</td>\n",
       "      <td>20</td>\n",
       "      <td>200</td>\n",
       "    </tr>\n",
       "    <tr>\n",
       "      <th>r3</th>\n",
       "      <td>3</td>\n",
       "      <td>30</td>\n",
       "      <td>300</td>\n",
       "    </tr>\n",
       "  </tbody>\n",
       "</table>\n",
       "</div>"
      ],
      "text/plain": [
       "    c1  c2   c3\n",
       "r2   2  20  200\n",
       "r3   3  30  300"
      ]
     },
     "execution_count": 22,
     "metadata": {},
     "output_type": "execute_result"
    }
   ],
   "source": [
    "# c2열의 값이 10보다 큰 데이터\n",
    "\n",
    "df.loc[df['c2'] >10]"
   ]
  },
  {
   "cell_type": "code",
   "execution_count": 23,
   "id": "78298f39",
   "metadata": {
    "scrolled": false
   },
   "outputs": [
    {
     "data": {
      "text/html": [
       "<div>\n",
       "<style scoped>\n",
       "    .dataframe tbody tr th:only-of-type {\n",
       "        vertical-align: middle;\n",
       "    }\n",
       "\n",
       "    .dataframe tbody tr th {\n",
       "        vertical-align: top;\n",
       "    }\n",
       "\n",
       "    .dataframe thead th {\n",
       "        text-align: right;\n",
       "    }\n",
       "</style>\n",
       "<table border=\"1\" class=\"dataframe\">\n",
       "  <thead>\n",
       "    <tr style=\"text-align: right;\">\n",
       "      <th></th>\n",
       "      <th>c1</th>\n",
       "      <th>c2</th>\n",
       "      <th>c3</th>\n",
       "    </tr>\n",
       "  </thead>\n",
       "  <tbody>\n",
       "    <tr>\n",
       "      <th>r1</th>\n",
       "      <td>1</td>\n",
       "      <td>10</td>\n",
       "      <td>100</td>\n",
       "    </tr>\n",
       "    <tr>\n",
       "      <th>r2</th>\n",
       "      <td>2</td>\n",
       "      <td>20</td>\n",
       "      <td>200</td>\n",
       "    </tr>\n",
       "    <tr>\n",
       "      <th>r3</th>\n",
       "      <td>3</td>\n",
       "      <td>30</td>\n",
       "      <td>300</td>\n",
       "    </tr>\n",
       "  </tbody>\n",
       "</table>\n",
       "</div>"
      ],
      "text/plain": [
       "    c1  c2   c3\n",
       "r1   1  10  100\n",
       "r2   2  20  200\n",
       "r3   3  30  300"
      ]
     },
     "execution_count": 23,
     "metadata": {},
     "output_type": "execute_result"
    }
   ],
   "source": [
    "df"
   ]
  },
  {
   "cell_type": "markdown",
   "id": "fd2ab67d",
   "metadata": {},
   "source": [
    "## 3-5 다양한 데이터 불러오기\n",
    "\n",
    "    Pandas는 다양한 형식의 데이터를 불러올 수 있음.\n",
    "    - CSV\n",
    "    - Excel\n",
    "    - Database\n",
    "    - JSON\n",
    "    - MessagePack\n",
    "    - HTML\n",
    "    - Google BigQuery\n",
    "    - Clipboard\n",
    "    - Pickle\n",
    "    - etc"
   ]
  },
  {
   "cell_type": "markdown",
   "id": "447bb7c9",
   "metadata": {},
   "source": [
    "#### CSV 파일 불러오기"
   ]
  },
  {
   "cell_type": "code",
   "execution_count": 24,
   "id": "e3773a21",
   "metadata": {},
   "outputs": [
    {
     "data": {
      "text/html": [
       "<div>\n",
       "<style scoped>\n",
       "    .dataframe tbody tr th:only-of-type {\n",
       "        vertical-align: middle;\n",
       "    }\n",
       "\n",
       "    .dataframe tbody tr th {\n",
       "        vertical-align: top;\n",
       "    }\n",
       "\n",
       "    .dataframe thead th {\n",
       "        text-align: right;\n",
       "    }\n",
       "</style>\n",
       "<table border=\"1\" class=\"dataframe\">\n",
       "  <thead>\n",
       "    <tr style=\"text-align: right;\">\n",
       "      <th></th>\n",
       "      <th>anime_id</th>\n",
       "      <th>name</th>\n",
       "      <th>genre</th>\n",
       "      <th>type</th>\n",
       "      <th>episodes</th>\n",
       "      <th>rating</th>\n",
       "      <th>members</th>\n",
       "    </tr>\n",
       "  </thead>\n",
       "  <tbody>\n",
       "    <tr>\n",
       "      <th>0</th>\n",
       "      <td>32281</td>\n",
       "      <td>Kimi no Na wa.</td>\n",
       "      <td>Drama, Romance, School, Supernatural</td>\n",
       "      <td>Movie</td>\n",
       "      <td>1</td>\n",
       "      <td>9.37</td>\n",
       "      <td>200630</td>\n",
       "    </tr>\n",
       "    <tr>\n",
       "      <th>1</th>\n",
       "      <td>5114</td>\n",
       "      <td>Fullmetal Alchemist: Brotherhood</td>\n",
       "      <td>Action, Adventure, Drama, Fantasy, Magic, Mili...</td>\n",
       "      <td>TV</td>\n",
       "      <td>64</td>\n",
       "      <td>9.26</td>\n",
       "      <td>793665</td>\n",
       "    </tr>\n",
       "    <tr>\n",
       "      <th>2</th>\n",
       "      <td>28977</td>\n",
       "      <td>Gintama°</td>\n",
       "      <td>Action, Comedy, Historical, Parody, Samurai, S...</td>\n",
       "      <td>TV</td>\n",
       "      <td>51</td>\n",
       "      <td>9.25</td>\n",
       "      <td>114262</td>\n",
       "    </tr>\n",
       "    <tr>\n",
       "      <th>3</th>\n",
       "      <td>9253</td>\n",
       "      <td>Steins;Gate</td>\n",
       "      <td>Sci-Fi, Thriller</td>\n",
       "      <td>TV</td>\n",
       "      <td>24</td>\n",
       "      <td>9.17</td>\n",
       "      <td>673572</td>\n",
       "    </tr>\n",
       "    <tr>\n",
       "      <th>4</th>\n",
       "      <td>9969</td>\n",
       "      <td>Gintama&amp;#039;</td>\n",
       "      <td>Action, Comedy, Historical, Parody, Samurai, S...</td>\n",
       "      <td>TV</td>\n",
       "      <td>51</td>\n",
       "      <td>9.16</td>\n",
       "      <td>151266</td>\n",
       "    </tr>\n",
       "  </tbody>\n",
       "</table>\n",
       "</div>"
      ],
      "text/plain": [
       "   anime_id                              name  \\\n",
       "0     32281                    Kimi no Na wa.   \n",
       "1      5114  Fullmetal Alchemist: Brotherhood   \n",
       "2     28977                          Gintama°   \n",
       "3      9253                       Steins;Gate   \n",
       "4      9969                     Gintama&#039;   \n",
       "\n",
       "                                               genre   type episodes  rating  \\\n",
       "0               Drama, Romance, School, Supernatural  Movie        1    9.37   \n",
       "1  Action, Adventure, Drama, Fantasy, Magic, Mili...     TV       64    9.26   \n",
       "2  Action, Comedy, Historical, Parody, Samurai, S...     TV       51    9.25   \n",
       "3                                   Sci-Fi, Thriller     TV       24    9.17   \n",
       "4  Action, Comedy, Historical, Parody, Samurai, S...     TV       51    9.16   \n",
       "\n",
       "   members  \n",
       "0   200630  \n",
       "1   793665  \n",
       "2   114262  \n",
       "3   673572  \n",
       "4   151266  "
      ]
     },
     "execution_count": 24,
     "metadata": {},
     "output_type": "execute_result"
    }
   ],
   "source": [
    "import os\n",
    "import_url = 'https://raw.githubusercontent.com/practical-jupyter/sample-data/master/anime/'\n",
    "anime_csv = os.path.join(base_url, 'anime.csv')\n",
    "\n",
    "df = pd.read_csv(anime_csv).head()\n",
    "df.head()"
   ]
  },
  {
   "cell_type": "code",
   "execution_count": 25,
   "id": "39619de8",
   "metadata": {},
   "outputs": [
    {
     "data": {
      "text/html": [
       "<div>\n",
       "<style scoped>\n",
       "    .dataframe tbody tr th:only-of-type {\n",
       "        vertical-align: middle;\n",
       "    }\n",
       "\n",
       "    .dataframe tbody tr th {\n",
       "        vertical-align: top;\n",
       "    }\n",
       "\n",
       "    .dataframe thead th {\n",
       "        text-align: right;\n",
       "    }\n",
       "</style>\n",
       "<table border=\"1\" class=\"dataframe\">\n",
       "  <thead>\n",
       "    <tr style=\"text-align: right;\">\n",
       "      <th></th>\n",
       "      <th>name</th>\n",
       "      <th>genre</th>\n",
       "      <th>type</th>\n",
       "      <th>episodes</th>\n",
       "      <th>rating</th>\n",
       "      <th>members</th>\n",
       "    </tr>\n",
       "    <tr>\n",
       "      <th>anime_id</th>\n",
       "      <th></th>\n",
       "      <th></th>\n",
       "      <th></th>\n",
       "      <th></th>\n",
       "      <th></th>\n",
       "      <th></th>\n",
       "    </tr>\n",
       "  </thead>\n",
       "  <tbody>\n",
       "    <tr>\n",
       "      <th>32281</th>\n",
       "      <td>Kimi no Na wa.</td>\n",
       "      <td>Drama, Romance, School, Supernatural</td>\n",
       "      <td>Movie</td>\n",
       "      <td>1</td>\n",
       "      <td>9.37</td>\n",
       "      <td>200630</td>\n",
       "    </tr>\n",
       "    <tr>\n",
       "      <th>5114</th>\n",
       "      <td>Fullmetal Alchemist: Brotherhood</td>\n",
       "      <td>Action, Adventure, Drama, Fantasy, Magic, Mili...</td>\n",
       "      <td>TV</td>\n",
       "      <td>64</td>\n",
       "      <td>9.26</td>\n",
       "      <td>793665</td>\n",
       "    </tr>\n",
       "    <tr>\n",
       "      <th>28977</th>\n",
       "      <td>Gintama°</td>\n",
       "      <td>Action, Comedy, Historical, Parody, Samurai, S...</td>\n",
       "      <td>TV</td>\n",
       "      <td>51</td>\n",
       "      <td>9.25</td>\n",
       "      <td>114262</td>\n",
       "    </tr>\n",
       "    <tr>\n",
       "      <th>9253</th>\n",
       "      <td>Steins;Gate</td>\n",
       "      <td>Sci-Fi, Thriller</td>\n",
       "      <td>TV</td>\n",
       "      <td>24</td>\n",
       "      <td>9.17</td>\n",
       "      <td>673572</td>\n",
       "    </tr>\n",
       "    <tr>\n",
       "      <th>9969</th>\n",
       "      <td>Gintama&amp;#039;</td>\n",
       "      <td>Action, Comedy, Historical, Parody, Samurai, S...</td>\n",
       "      <td>TV</td>\n",
       "      <td>51</td>\n",
       "      <td>9.16</td>\n",
       "      <td>151266</td>\n",
       "    </tr>\n",
       "  </tbody>\n",
       "</table>\n",
       "</div>"
      ],
      "text/plain": [
       "                                      name  \\\n",
       "anime_id                                     \n",
       "32281                       Kimi no Na wa.   \n",
       "5114      Fullmetal Alchemist: Brotherhood   \n",
       "28977                             Gintama°   \n",
       "9253                           Steins;Gate   \n",
       "9969                         Gintama&#039;   \n",
       "\n",
       "                                                      genre   type episodes  \\\n",
       "anime_id                                                                      \n",
       "32281                  Drama, Romance, School, Supernatural  Movie        1   \n",
       "5114      Action, Adventure, Drama, Fantasy, Magic, Mili...     TV       64   \n",
       "28977     Action, Comedy, Historical, Parody, Samurai, S...     TV       51   \n",
       "9253                                       Sci-Fi, Thriller     TV       24   \n",
       "9969      Action, Comedy, Historical, Parody, Samurai, S...     TV       51   \n",
       "\n",
       "          rating  members  \n",
       "anime_id                   \n",
       "32281       9.37   200630  \n",
       "5114        9.26   793665  \n",
       "28977       9.25   114262  \n",
       "9253        9.17   673572  \n",
       "9969        9.16   151266  "
      ]
     },
     "execution_count": 25,
     "metadata": {},
     "output_type": "execute_result"
    }
   ],
   "source": [
    "# 인덱스 열 이름 지정\n",
    "df = pd.read_csv(anime_csv, index_col='anime_id')\n",
    "df.head()"
   ]
  },
  {
   "cell_type": "code",
   "execution_count": 26,
   "id": "12dcba73",
   "metadata": {
    "scrolled": false
   },
   "outputs": [
    {
     "data": {
      "text/html": [
       "<div>\n",
       "<style scoped>\n",
       "    .dataframe tbody tr th:only-of-type {\n",
       "        vertical-align: middle;\n",
       "    }\n",
       "\n",
       "    .dataframe tbody tr th {\n",
       "        vertical-align: top;\n",
       "    }\n",
       "\n",
       "    .dataframe thead th {\n",
       "        text-align: right;\n",
       "    }\n",
       "</style>\n",
       "<table border=\"1\" class=\"dataframe\">\n",
       "  <thead>\n",
       "    <tr style=\"text-align: right;\">\n",
       "      <th></th>\n",
       "      <th>anime_id</th>\n",
       "      <th>name</th>\n",
       "      <th>genre</th>\n",
       "      <th>type</th>\n",
       "      <th>episodes</th>\n",
       "      <th>rating</th>\n",
       "      <th>members</th>\n",
       "    </tr>\n",
       "  </thead>\n",
       "  <tbody>\n",
       "    <tr>\n",
       "      <th>0</th>\n",
       "      <td>32281</td>\n",
       "      <td>Kimi no Na wa.</td>\n",
       "      <td>Drama, Romance, School, Supernatural</td>\n",
       "      <td>Movie</td>\n",
       "      <td>1</td>\n",
       "      <td>9.37</td>\n",
       "      <td>200630.0</td>\n",
       "    </tr>\n",
       "    <tr>\n",
       "      <th>1</th>\n",
       "      <td>5114</td>\n",
       "      <td>Fullmetal Alchemist: Brotherhood</td>\n",
       "      <td>Action, Adventure, Drama, Fantasy, Magic, Mili...</td>\n",
       "      <td>TV</td>\n",
       "      <td>64</td>\n",
       "      <td>9.26</td>\n",
       "      <td>793665.0</td>\n",
       "    </tr>\n",
       "    <tr>\n",
       "      <th>2</th>\n",
       "      <td>28977</td>\n",
       "      <td>Gintama°</td>\n",
       "      <td>Action, Comedy, Historical, Parody, Samurai, S...</td>\n",
       "      <td>TV</td>\n",
       "      <td>51</td>\n",
       "      <td>9.25</td>\n",
       "      <td>114262.0</td>\n",
       "    </tr>\n",
       "    <tr>\n",
       "      <th>3</th>\n",
       "      <td>9253</td>\n",
       "      <td>Steins;Gate</td>\n",
       "      <td>Sci-Fi, Thriller</td>\n",
       "      <td>TV</td>\n",
       "      <td>24</td>\n",
       "      <td>9.17</td>\n",
       "      <td>673572.0</td>\n",
       "    </tr>\n",
       "    <tr>\n",
       "      <th>4</th>\n",
       "      <td>9969</td>\n",
       "      <td>Gintama&amp;#039;</td>\n",
       "      <td>Action, Comedy, Historical, Parody, Samurai, S...</td>\n",
       "      <td>TV</td>\n",
       "      <td>51</td>\n",
       "      <td>9.16</td>\n",
       "      <td>151266.0</td>\n",
       "    </tr>\n",
       "  </tbody>\n",
       "</table>\n",
       "</div>"
      ],
      "text/plain": [
       "   anime_id                              name  \\\n",
       "0     32281                    Kimi no Na wa.   \n",
       "1      5114  Fullmetal Alchemist: Brotherhood   \n",
       "2     28977                          Gintama°   \n",
       "3      9253                       Steins;Gate   \n",
       "4      9969                     Gintama&#039;   \n",
       "\n",
       "                                               genre   type episodes  rating  \\\n",
       "0               Drama, Romance, School, Supernatural  Movie        1    9.37   \n",
       "1  Action, Adventure, Drama, Fantasy, Magic, Mili...     TV       64    9.26   \n",
       "2  Action, Comedy, Historical, Parody, Samurai, S...     TV       51    9.25   \n",
       "3                                   Sci-Fi, Thriller     TV       24    9.17   \n",
       "4  Action, Comedy, Historical, Parody, Samurai, S...     TV       51    9.16   \n",
       "\n",
       "    members  \n",
       "0  200630.0  \n",
       "1  793665.0  \n",
       "2  114262.0  \n",
       "3  673572.0  \n",
       "4  151266.0  "
      ]
     },
     "execution_count": 26,
     "metadata": {},
     "output_type": "execute_result"
    }
   ],
   "source": [
    "# 열의 형식 변경\n",
    "df = pd.read_csv(anime_csv, dtype={'members': float})\n",
    "df.head()"
   ]
  },
  {
   "cell_type": "code",
   "execution_count": 27,
   "id": "722a3a71",
   "metadata": {},
   "outputs": [
    {
     "data": {
      "text/plain": [
       "Date              datetime64[ns]\n",
       "TOEI ANIMATION           float64\n",
       "IG Port                  float64\n",
       "dtype: object"
      ]
     },
     "execution_count": 27,
     "metadata": {},
     "output_type": "execute_result"
    }
   ],
   "source": [
    "# datetime 형의 열이 포함된 경우\n",
    "anime_stock_price_csv = os.path.join(base_url, 'anime_stock_price.csv')\n",
    "df = pd.read_csv(anime_stock_price_csv, parse_dates=['Date'])\n",
    "df.dtypes"
   ]
  },
  {
   "cell_type": "code",
   "execution_count": 28,
   "id": "49d82b45",
   "metadata": {},
   "outputs": [],
   "source": [
    "# 단락 문자 변경\n",
    "anime_tsv = os.path.join(base_url, 'anime.tsv')\n",
    "df = pd.read_csv(anime_tsv, sep='\\t')"
   ]
  },
  {
   "cell_type": "markdown",
   "id": "0edc1edc",
   "metadata": {},
   "source": [
    "#### Excel 파일 불러오기"
   ]
  },
  {
   "cell_type": "code",
   "execution_count": 29,
   "id": "c783f984",
   "metadata": {
    "scrolled": true
   },
   "outputs": [
    {
     "data": {
      "text/html": [
       "<div>\n",
       "<style scoped>\n",
       "    .dataframe tbody tr th:only-of-type {\n",
       "        vertical-align: middle;\n",
       "    }\n",
       "\n",
       "    .dataframe tbody tr th {\n",
       "        vertical-align: top;\n",
       "    }\n",
       "\n",
       "    .dataframe thead th {\n",
       "        text-align: right;\n",
       "    }\n",
       "</style>\n",
       "<table border=\"1\" class=\"dataframe\">\n",
       "  <thead>\n",
       "    <tr style=\"text-align: right;\">\n",
       "      <th></th>\n",
       "      <th>anime_id</th>\n",
       "      <th>name</th>\n",
       "      <th>genre</th>\n",
       "      <th>type</th>\n",
       "      <th>episodes</th>\n",
       "      <th>rating</th>\n",
       "      <th>members</th>\n",
       "    </tr>\n",
       "  </thead>\n",
       "  <tbody>\n",
       "    <tr>\n",
       "      <th>0</th>\n",
       "      <td>32281</td>\n",
       "      <td>Kimi no Na wa.</td>\n",
       "      <td>Drama, Romance, School, Supernatural</td>\n",
       "      <td>Movie</td>\n",
       "      <td>1</td>\n",
       "      <td>9.37</td>\n",
       "      <td>200630</td>\n",
       "    </tr>\n",
       "    <tr>\n",
       "      <th>1</th>\n",
       "      <td>15335</td>\n",
       "      <td>Gintama Movie: Kanketsu-hen - Yorozuya yo Eien...</td>\n",
       "      <td>Action, Comedy, Historical, Parody, Samurai, S...</td>\n",
       "      <td>Movie</td>\n",
       "      <td>1</td>\n",
       "      <td>9.10</td>\n",
       "      <td>72534</td>\n",
       "    </tr>\n",
       "    <tr>\n",
       "      <th>2</th>\n",
       "      <td>28851</td>\n",
       "      <td>Koe no Katachi</td>\n",
       "      <td>Drama, School, Shounen</td>\n",
       "      <td>Movie</td>\n",
       "      <td>1</td>\n",
       "      <td>9.05</td>\n",
       "      <td>102733</td>\n",
       "    </tr>\n",
       "    <tr>\n",
       "      <th>3</th>\n",
       "      <td>199</td>\n",
       "      <td>Sen to Chihiro no Kamikakushi</td>\n",
       "      <td>Adventure, Drama, Supernatural</td>\n",
       "      <td>Movie</td>\n",
       "      <td>1</td>\n",
       "      <td>8.93</td>\n",
       "      <td>466254</td>\n",
       "    </tr>\n",
       "    <tr>\n",
       "      <th>4</th>\n",
       "      <td>12355</td>\n",
       "      <td>Ookami Kodomo no Ame to Yuki</td>\n",
       "      <td>Fantasy, Slice of Life</td>\n",
       "      <td>Movie</td>\n",
       "      <td>1</td>\n",
       "      <td>8.84</td>\n",
       "      <td>226193</td>\n",
       "    </tr>\n",
       "  </tbody>\n",
       "</table>\n",
       "</div>"
      ],
      "text/plain": [
       "   anime_id                                               name  \\\n",
       "0     32281                                     Kimi no Na wa.   \n",
       "1     15335  Gintama Movie: Kanketsu-hen - Yorozuya yo Eien...   \n",
       "2     28851                                     Koe no Katachi   \n",
       "3       199                      Sen to Chihiro no Kamikakushi   \n",
       "4     12355                       Ookami Kodomo no Ame to Yuki   \n",
       "\n",
       "                                               genre   type episodes  rating  \\\n",
       "0               Drama, Romance, School, Supernatural  Movie        1    9.37   \n",
       "1  Action, Comedy, Historical, Parody, Samurai, S...  Movie        1    9.10   \n",
       "2                             Drama, School, Shounen  Movie        1    9.05   \n",
       "3                     Adventure, Drama, Supernatural  Movie        1    8.93   \n",
       "4                             Fantasy, Slice of Life  Movie        1    8.84   \n",
       "\n",
       "   members  \n",
       "0   200630  \n",
       "1    72534  \n",
       "2   102733  \n",
       "3   466254  \n",
       "4   226193  "
      ]
     },
     "execution_count": 29,
     "metadata": {},
     "output_type": "execute_result"
    }
   ],
   "source": [
    "# basic code\n",
    "\n",
    "anime_xlsx = os.path.join(base_url, 'anime.xlsx')\n",
    "df = pd.read_excel(anime_xlsx)\n",
    "df.head()"
   ]
  },
  {
   "cell_type": "code",
   "execution_count": 30,
   "id": "8e7583a1",
   "metadata": {
    "scrolled": true
   },
   "outputs": [
    {
     "ename": "TypeError",
     "evalue": "read_excel() got an unexpected keyword argument 'sheetname'",
     "output_type": "error",
     "traceback": [
      "\u001b[0;31m---------------------------------------------------------------------------\u001b[0m",
      "\u001b[0;31mTypeError\u001b[0m                                 Traceback (most recent call last)",
      "\u001b[0;32m<ipython-input-30-6e9fb8d3fe53>\u001b[0m in \u001b[0;36m<module>\u001b[0;34m\u001b[0m\n\u001b[1;32m      1\u001b[0m \u001b[0;31m# 특정 시트 불러오기\u001b[0m\u001b[0;34m\u001b[0m\u001b[0;34m\u001b[0m\u001b[0;34m\u001b[0m\u001b[0m\n\u001b[0;32m----> 2\u001b[0;31m \u001b[0mdf\u001b[0m \u001b[0;34m=\u001b[0m \u001b[0mpd\u001b[0m\u001b[0;34m.\u001b[0m\u001b[0mread_excel\u001b[0m\u001b[0;34m(\u001b[0m\u001b[0manime_xlsx\u001b[0m\u001b[0;34m,\u001b[0m \u001b[0msheetname\u001b[0m\u001b[0;34m=\u001b[0m\u001b[0;34m'Movie'\u001b[0m\u001b[0;34m)\u001b[0m\u001b[0;34m\u001b[0m\u001b[0;34m\u001b[0m\u001b[0m\n\u001b[0m",
      "\u001b[0;32m~/opt/anaconda3/lib/python3.8/site-packages/pandas/util/_decorators.py\u001b[0m in \u001b[0;36mwrapper\u001b[0;34m(*args, **kwargs)\u001b[0m\n\u001b[1;32m    297\u001b[0m                 )\n\u001b[1;32m    298\u001b[0m                 \u001b[0mwarnings\u001b[0m\u001b[0;34m.\u001b[0m\u001b[0mwarn\u001b[0m\u001b[0;34m(\u001b[0m\u001b[0mmsg\u001b[0m\u001b[0;34m,\u001b[0m \u001b[0mFutureWarning\u001b[0m\u001b[0;34m,\u001b[0m \u001b[0mstacklevel\u001b[0m\u001b[0;34m=\u001b[0m\u001b[0mstacklevel\u001b[0m\u001b[0;34m)\u001b[0m\u001b[0;34m\u001b[0m\u001b[0;34m\u001b[0m\u001b[0m\n\u001b[0;32m--> 299\u001b[0;31m             \u001b[0;32mreturn\u001b[0m \u001b[0mfunc\u001b[0m\u001b[0;34m(\u001b[0m\u001b[0;34m*\u001b[0m\u001b[0margs\u001b[0m\u001b[0;34m,\u001b[0m \u001b[0;34m**\u001b[0m\u001b[0mkwargs\u001b[0m\u001b[0;34m)\u001b[0m\u001b[0;34m\u001b[0m\u001b[0;34m\u001b[0m\u001b[0m\n\u001b[0m\u001b[1;32m    300\u001b[0m \u001b[0;34m\u001b[0m\u001b[0m\n\u001b[1;32m    301\u001b[0m         \u001b[0;32mreturn\u001b[0m \u001b[0mwrapper\u001b[0m\u001b[0;34m\u001b[0m\u001b[0;34m\u001b[0m\u001b[0m\n",
      "\u001b[0;31mTypeError\u001b[0m: read_excel() got an unexpected keyword argument 'sheetname'"
     ]
    }
   ],
   "source": [
    "# 특정 시트 불러오기\n",
    "df = pd.read_excel(anime_xlsx, sheetname='Movie')"
   ]
  },
  {
   "cell_type": "markdown",
   "id": "2ab0482a",
   "metadata": {},
   "source": [
    "#### SQL 사용해 불러오기\n",
    "\n",
    "    pandas.read_sql()\n",
    "    제1인수 : 쿼리를 실행하는 SQL문\n",
    "    제2인수 : SQLAlchemy or DBAPI2의 접속 인스턴스 넘겨줌"
   ]
  },
  {
   "cell_type": "code",
   "execution_count": null,
   "id": "52986faf",
   "metadata": {},
   "outputs": [],
   "source": [
    "from urllib.request import urlopen\n",
    "import sqlite3\n",
    "\n",
    "anime_db = os.path.join(base_url, 'anime.db')\n",
    "res = urlopen(anime_db)\n",
    "with open('anime.db', 'wb') as f:\n",
    "    f.write(res.read())\n",
    "    with sqlite3.connect(f.name) as conn:\n",
    "        df = pd.read_sql('SELECT * FROM anime', conn)"
   ]
  },
  {
   "cell_type": "markdown",
   "id": "0ea2fe15",
   "metadata": {},
   "source": [
    "#### HTML 파일 불러오기\n",
    "\n",
    "    HTML 파일의 table 요소를 DataFrame으로 불러온다. "
   ]
  },
  {
   "cell_type": "code",
   "execution_count": null,
   "id": "a13296a9",
   "metadata": {},
   "outputs": [],
   "source": [
    "url = 'https://docs.python.org/3/py-modindex.html'\n",
    "tables = pd.read_html(url, index_col=1)\n",
    "tables[0].loc[:, 1:].dropna().head(10)"
   ]
  },
  {
   "cell_type": "markdown",
   "id": "36a5f776",
   "metadata": {},
   "source": [
    "## 3-6 데이터 처리"
   ]
  },
  {
   "cell_type": "code",
   "execution_count": null,
   "id": "a7a6b109",
   "metadata": {
    "code_folding": []
   },
   "outputs": [],
   "source": [
    "# 논리값으로 데이터 처리\n",
    "import os\n",
    "import pandas as pd\n",
    "base_url = 'http://raw.githubusercontent.com/practical-jupyter/sample-data/master/anime/'\n",
    "anime_csv = os.path.join(base_url, 'anime.csv')\n",
    "df = pd.read_csv(anime_csv)\n",
    "\n",
    "df.loc[df['episodes'] == 'Unknown'].head()"
   ]
  },
  {
   "cell_type": "code",
   "execution_count": null,
   "id": "09f7a267",
   "metadata": {
    "scrolled": false
   },
   "outputs": [],
   "source": [
    "# Where 메서드로 데이터 추출하기\n",
    "df.where(df['rating'] < 9.2).head()"
   ]
  },
  {
   "cell_type": "code",
   "execution_count": null,
   "id": "2fdbdef6",
   "metadata": {},
   "outputs": [],
   "source": [
    "# 값 변경\n",
    "\n",
    "import numpy as np\n",
    "\n",
    "df.loc[74, 'episodes']  = np.nan\n",
    "df.loc[74, 'episodes']"
   ]
  },
  {
   "cell_type": "code",
   "execution_count": null,
   "id": "9bef8736",
   "metadata": {},
   "outputs": [],
   "source": [
    "# 결손값 제외하기 (NaN은 결손값임)\n",
    "df.loc[df['episodes'].isnull()].head()"
   ]
  },
  {
   "cell_type": "code",
   "execution_count": null,
   "id": "c6e6dcdc",
   "metadata": {
    "scrolled": true
   },
   "outputs": [],
   "source": [
    "# 결손값이 포함되어 있는 데이터 제외\n",
    "df.dropna().loc[70:].head()"
   ]
  },
  {
   "cell_type": "code",
   "execution_count": null,
   "id": "71417fcb",
   "metadata": {},
   "outputs": [],
   "source": [
    "#비파괴적 조작\n",
    "df.loc[70:].head()"
   ]
  },
  {
   "cell_type": "code",
   "execution_count": null,
   "id": "663f2e8a",
   "metadata": {},
   "outputs": [],
   "source": [
    "# DataFrame의 내용을 파괴적으로 다시 쓰는 경우\n",
    "df.dropna(inplace=True)\n",
    "df.loc[70:].head()"
   ]
  },
  {
   "cell_type": "markdown",
   "id": "3cb2daca",
   "metadata": {},
   "source": [
    "#### 데이터형\n",
    "    Series나 DataFrame은 작성된 시점에서 데이터형이 자동으로 설정됨. \n",
    "    수치 데이터는 NumPy의 데이터형이, 문자열 등의 데이터는 object형으로 취급됨."
   ]
  },
  {
   "cell_type": "code",
   "execution_count": null,
   "id": "8b46d6fb",
   "metadata": {},
   "outputs": [],
   "source": [
    "# 데이터 형\n",
    "df['anime_id'].dtype"
   ]
  },
  {
   "cell_type": "code",
   "execution_count": null,
   "id": "01cb2e75",
   "metadata": {},
   "outputs": [],
   "source": [
    "# DataFrame의 데이터 형을 확인하는 경우\n",
    "df.dtypes"
   ]
  },
  {
   "cell_type": "code",
   "execution_count": null,
   "id": "ee759627",
   "metadata": {},
   "outputs": [],
   "source": [
    "pd.options.display.max_rows=10\n",
    "df['episodes'].astype(np.int64)"
   ]
  },
  {
   "cell_type": "code",
   "execution_count": null,
   "id": "9e327a36",
   "metadata": {
    "scrolled": true
   },
   "outputs": [],
   "source": [
    "# Sort 하기\n",
    "df.sort_values('rating', ascending=False).head()"
   ]
  },
  {
   "cell_type": "code",
   "execution_count": null,
   "id": "b4d53091",
   "metadata": {},
   "outputs": [],
   "source": [
    "# 함수 적용하기\n",
    "# map 메서드에 의한 함수 적용\n",
    "\n",
    "import html\n",
    "\n",
    "print(df['name'].head())\n",
    "print(df['name'].map(html.unescape).head())"
   ]
  },
  {
   "cell_type": "code",
   "execution_count": null,
   "id": "0c5f6f7d",
   "metadata": {
    "code_folding": []
   },
   "outputs": [],
   "source": [
    "# apply 메서드에 의한 함수 적용\n",
    "df.apply(len)"
   ]
  },
  {
   "cell_type": "code",
   "execution_count": null,
   "id": "5b22e682",
   "metadata": {
    "scrolled": true
   },
   "outputs": [],
   "source": [
    "df.apply(len, axis=1).head()"
   ]
  },
  {
   "cell_type": "markdown",
   "id": "83c1009f",
   "metadata": {},
   "source": [
    "##  3-7. 통계량 산출\n",
    "\n",
    "    Series나 DataFrame에는 일반적인 수학적, 통계적인 계산을 실행하는 메서드를 사용할 수 있다."
   ]
  },
  {
   "cell_type": "code",
   "execution_count": null,
   "id": "bbbd1053",
   "metadata": {},
   "outputs": [],
   "source": [
    "import os\n",
    "import pandas as pd\n",
    "\n",
    "base_url = 'https://raw.githubusercontent.com/practical-jupyter/sample-data/master/anime/'\n",
    "anime_master_csv = os.path.join(base_url, 'anime_master.csv')\n",
    "df = pd.read_csv(anime_master_csv)\n",
    "\n",
    "df.mean()"
   ]
  },
  {
   "cell_type": "code",
   "execution_count": null,
   "id": "5aec70bc",
   "metadata": {},
   "outputs": [],
   "source": [
    "df['members'].sum()"
   ]
  },
  {
   "cell_type": "code",
   "execution_count": 38,
   "id": "02daca83",
   "metadata": {},
   "outputs": [
    {
     "data": {
      "text/html": [
       "<div>\n",
       "<style scoped>\n",
       "    .dataframe tbody tr th:only-of-type {\n",
       "        vertical-align: middle;\n",
       "    }\n",
       "\n",
       "    .dataframe tbody tr th {\n",
       "        vertical-align: top;\n",
       "    }\n",
       "\n",
       "    .dataframe thead th {\n",
       "        text-align: right;\n",
       "    }\n",
       "</style>\n",
       "<table border=\"1\" class=\"dataframe\">\n",
       "  <thead>\n",
       "    <tr style=\"text-align: right;\">\n",
       "      <th></th>\n",
       "      <th>anime_id</th>\n",
       "      <th>rating</th>\n",
       "      <th>members</th>\n",
       "    </tr>\n",
       "  </thead>\n",
       "  <tbody>\n",
       "    <tr>\n",
       "      <th>count</th>\n",
       "      <td>2308.000</td>\n",
       "      <td>2259.000</td>\n",
       "      <td>2308.000</td>\n",
       "    </tr>\n",
       "    <tr>\n",
       "      <th>mean</th>\n",
       "      <td>14947.136</td>\n",
       "      <td>6.312</td>\n",
       "      <td>10425.578</td>\n",
       "    </tr>\n",
       "    <tr>\n",
       "      <th>std</th>\n",
       "      <td>11206.922</td>\n",
       "      <td>1.213</td>\n",
       "      <td>31093.617</td>\n",
       "    </tr>\n",
       "    <tr>\n",
       "      <th>min</th>\n",
       "      <td>5.000</td>\n",
       "      <td>2.490</td>\n",
       "      <td>5.000</td>\n",
       "    </tr>\n",
       "    <tr>\n",
       "      <th>25%</th>\n",
       "      <td>4710.500</td>\n",
       "      <td>5.400</td>\n",
       "      <td>118.750</td>\n",
       "    </tr>\n",
       "    <tr>\n",
       "      <th>50%</th>\n",
       "      <td>11083.000</td>\n",
       "      <td>6.450</td>\n",
       "      <td>484.000</td>\n",
       "    </tr>\n",
       "    <tr>\n",
       "      <th>75%</th>\n",
       "      <td>27372.000</td>\n",
       "      <td>7.250</td>\n",
       "      <td>4200.250</td>\n",
       "    </tr>\n",
       "    <tr>\n",
       "      <th>max</th>\n",
       "      <td>34527.000</td>\n",
       "      <td>10.000</td>\n",
       "      <td>466254.000</td>\n",
       "    </tr>\n",
       "  </tbody>\n",
       "</table>\n",
       "</div>"
      ],
      "text/plain": [
       "        anime_id    rating     members\n",
       "count   2308.000  2259.000    2308.000\n",
       "mean   14947.136     6.312   10425.578\n",
       "std    11206.922     1.213   31093.617\n",
       "min        5.000     2.490       5.000\n",
       "25%     4710.500     5.400     118.750\n",
       "50%    11083.000     6.450     484.000\n",
       "75%    27372.000     7.250    4200.250\n",
       "max    34527.000    10.000  466254.000"
      ]
     },
     "execution_count": 38,
     "metadata": {},
     "output_type": "execute_result"
    }
   ],
   "source": [
    "# 참조 : https://pandas.pydata.org/docs/reference/frame.html#\n",
    "\n",
    "# describe : generate descriptive statistics\n",
    "# round : df의 데이터 내 소수 자리를 지정 후 반올림한다\n",
    "df.describe().round(3)"
   ]
  },
  {
   "cell_type": "code",
   "execution_count": 40,
   "id": "640101e8",
   "metadata": {
    "scrolled": true
   },
   "outputs": [
    {
     "data": {
      "text/html": [
       "<div>\n",
       "<style scoped>\n",
       "    .dataframe tbody tr th:only-of-type {\n",
       "        vertical-align: middle;\n",
       "    }\n",
       "\n",
       "    .dataframe tbody tr th {\n",
       "        vertical-align: top;\n",
       "    }\n",
       "\n",
       "    .dataframe thead th {\n",
       "        text-align: right;\n",
       "    }\n",
       "</style>\n",
       "<table border=\"1\" class=\"dataframe\">\n",
       "  <thead>\n",
       "    <tr style=\"text-align: right;\">\n",
       "      <th></th>\n",
       "      <th>anime_id</th>\n",
       "      <th>rating</th>\n",
       "      <th>members</th>\n",
       "    </tr>\n",
       "  </thead>\n",
       "  <tbody>\n",
       "    <tr>\n",
       "      <th>count</th>\n",
       "      <td>2308.0</td>\n",
       "      <td>2259.0</td>\n",
       "      <td>2308.0</td>\n",
       "    </tr>\n",
       "    <tr>\n",
       "      <th>mean</th>\n",
       "      <td>14947.1</td>\n",
       "      <td>6.3</td>\n",
       "      <td>10425.6</td>\n",
       "    </tr>\n",
       "    <tr>\n",
       "      <th>std</th>\n",
       "      <td>11206.9</td>\n",
       "      <td>1.2</td>\n",
       "      <td>31093.6</td>\n",
       "    </tr>\n",
       "    <tr>\n",
       "      <th>min</th>\n",
       "      <td>5.0</td>\n",
       "      <td>2.5</td>\n",
       "      <td>5.0</td>\n",
       "    </tr>\n",
       "    <tr>\n",
       "      <th>10%</th>\n",
       "      <td>1831.8</td>\n",
       "      <td>4.6</td>\n",
       "      <td>71.7</td>\n",
       "    </tr>\n",
       "    <tr>\n",
       "      <th>40%</th>\n",
       "      <td>8288.0</td>\n",
       "      <td>6.1</td>\n",
       "      <td>264.0</td>\n",
       "    </tr>\n",
       "    <tr>\n",
       "      <th>50%</th>\n",
       "      <td>11083.0</td>\n",
       "      <td>6.4</td>\n",
       "      <td>484.0</td>\n",
       "    </tr>\n",
       "    <tr>\n",
       "      <th>60%</th>\n",
       "      <td>17441.4</td>\n",
       "      <td>6.8</td>\n",
       "      <td>967.4</td>\n",
       "    </tr>\n",
       "    <tr>\n",
       "      <th>90%</th>\n",
       "      <td>30921.3</td>\n",
       "      <td>7.8</td>\n",
       "      <td>29119.3</td>\n",
       "    </tr>\n",
       "    <tr>\n",
       "      <th>max</th>\n",
       "      <td>34527.0</td>\n",
       "      <td>10.0</td>\n",
       "      <td>466254.0</td>\n",
       "    </tr>\n",
       "  </tbody>\n",
       "</table>\n",
       "</div>"
      ],
      "text/plain": [
       "       anime_id  rating   members\n",
       "count    2308.0  2259.0    2308.0\n",
       "mean    14947.1     6.3   10425.6\n",
       "std     11206.9     1.2   31093.6\n",
       "min         5.0     2.5       5.0\n",
       "10%      1831.8     4.6      71.7\n",
       "40%      8288.0     6.1     264.0\n",
       "50%     11083.0     6.4     484.0\n",
       "60%     17441.4     6.8     967.4\n",
       "90%     30921.3     7.8   29119.3\n",
       "max     34527.0    10.0  466254.0"
      ]
     },
     "execution_count": 40,
     "metadata": {},
     "output_type": "execute_result"
    }
   ],
   "source": [
    "df.describe(percentiles=[0.1, 0.4, 0.6, 0.9]).round(1)"
   ]
  },
  {
   "cell_type": "code",
   "execution_count": 44,
   "id": "6b0ea7d0",
   "metadata": {
    "scrolled": true
   },
   "outputs": [
    {
     "data": {
      "text/html": [
       "<div>\n",
       "<style scoped>\n",
       "    .dataframe tbody tr th:only-of-type {\n",
       "        vertical-align: middle;\n",
       "    }\n",
       "\n",
       "    .dataframe tbody tr th {\n",
       "        vertical-align: top;\n",
       "    }\n",
       "\n",
       "    .dataframe thead th {\n",
       "        text-align: right;\n",
       "    }\n",
       "</style>\n",
       "<table border=\"1\" class=\"dataframe\">\n",
       "  <thead>\n",
       "    <tr style=\"text-align: right;\">\n",
       "      <th></th>\n",
       "      <th>genre</th>\n",
       "      <th>type</th>\n",
       "    </tr>\n",
       "  </thead>\n",
       "  <tbody>\n",
       "    <tr>\n",
       "      <th>count</th>\n",
       "      <td>2266</td>\n",
       "      <td>2308</td>\n",
       "    </tr>\n",
       "    <tr>\n",
       "      <th>unique</th>\n",
       "      <td>814</td>\n",
       "      <td>1</td>\n",
       "    </tr>\n",
       "    <tr>\n",
       "      <th>top</th>\n",
       "      <td>Dementia</td>\n",
       "      <td>Movie</td>\n",
       "    </tr>\n",
       "    <tr>\n",
       "      <th>freq</th>\n",
       "      <td>124</td>\n",
       "      <td>2308</td>\n",
       "    </tr>\n",
       "  </tbody>\n",
       "</table>\n",
       "</div>"
      ],
      "text/plain": [
       "           genre   type\n",
       "count       2266   2308\n",
       "unique       814      1\n",
       "top     Dementia  Movie\n",
       "freq         124   2308"
      ]
     },
     "execution_count": 44,
     "metadata": {},
     "output_type": "execute_result"
    }
   ],
   "source": [
    "# 문자열형 기본 통계량\n",
    "\n",
    "df[['genre', 'type']].describe()"
   ]
  },
  {
   "cell_type": "code",
   "execution_count": 45,
   "id": "5e2bfa31",
   "metadata": {
    "scrolled": true
   },
   "outputs": [
    {
     "data": {
      "text/html": [
       "<div>\n",
       "<style scoped>\n",
       "    .dataframe tbody tr th:only-of-type {\n",
       "        vertical-align: middle;\n",
       "    }\n",
       "\n",
       "    .dataframe tbody tr th {\n",
       "        vertical-align: top;\n",
       "    }\n",
       "\n",
       "    .dataframe thead th {\n",
       "        text-align: right;\n",
       "    }\n",
       "</style>\n",
       "<table border=\"1\" class=\"dataframe\">\n",
       "  <thead>\n",
       "    <tr style=\"text-align: right;\">\n",
       "      <th></th>\n",
       "      <th>genre</th>\n",
       "      <th>type</th>\n",
       "    </tr>\n",
       "  </thead>\n",
       "  <tbody>\n",
       "    <tr>\n",
       "      <th>0</th>\n",
       "      <td>Drama, Romance, School, Supernatural</td>\n",
       "      <td>Movie</td>\n",
       "    </tr>\n",
       "    <tr>\n",
       "      <th>1</th>\n",
       "      <td>Action, Comedy, Historical, Parody, Samurai, S...</td>\n",
       "      <td>Movie</td>\n",
       "    </tr>\n",
       "    <tr>\n",
       "      <th>2</th>\n",
       "      <td>Drama, School, Shounen</td>\n",
       "      <td>Movie</td>\n",
       "    </tr>\n",
       "    <tr>\n",
       "      <th>3</th>\n",
       "      <td>Adventure, Drama, Supernatural</td>\n",
       "      <td>Movie</td>\n",
       "    </tr>\n",
       "    <tr>\n",
       "      <th>4</th>\n",
       "      <td>Fantasy, Slice of Life</td>\n",
       "      <td>Movie</td>\n",
       "    </tr>\n",
       "    <tr>\n",
       "      <th>...</th>\n",
       "      <td>...</td>\n",
       "      <td>...</td>\n",
       "    </tr>\n",
       "    <tr>\n",
       "      <th>2303</th>\n",
       "      <td>Adventure, Comedy, Fantasy, Kids</td>\n",
       "      <td>Movie</td>\n",
       "    </tr>\n",
       "    <tr>\n",
       "      <th>2304</th>\n",
       "      <td>Drama</td>\n",
       "      <td>Movie</td>\n",
       "    </tr>\n",
       "    <tr>\n",
       "      <th>2305</th>\n",
       "      <td>Comedy, Kids, Supernatural</td>\n",
       "      <td>Movie</td>\n",
       "    </tr>\n",
       "    <tr>\n",
       "      <th>2306</th>\n",
       "      <td>Comedy, Kids, Supernatural</td>\n",
       "      <td>Movie</td>\n",
       "    </tr>\n",
       "    <tr>\n",
       "      <th>2307</th>\n",
       "      <td>NaN</td>\n",
       "      <td>Movie</td>\n",
       "    </tr>\n",
       "  </tbody>\n",
       "</table>\n",
       "<p>2308 rows × 2 columns</p>\n",
       "</div>"
      ],
      "text/plain": [
       "                                                  genre   type\n",
       "0                  Drama, Romance, School, Supernatural  Movie\n",
       "1     Action, Comedy, Historical, Parody, Samurai, S...  Movie\n",
       "2                                Drama, School, Shounen  Movie\n",
       "3                        Adventure, Drama, Supernatural  Movie\n",
       "4                                Fantasy, Slice of Life  Movie\n",
       "...                                                 ...    ...\n",
       "2303                   Adventure, Comedy, Fantasy, Kids  Movie\n",
       "2304                                              Drama  Movie\n",
       "2305                         Comedy, Kids, Supernatural  Movie\n",
       "2306                         Comedy, Kids, Supernatural  Movie\n",
       "2307                                                NaN  Movie\n",
       "\n",
       "[2308 rows x 2 columns]"
      ]
     },
     "execution_count": 45,
     "metadata": {},
     "output_type": "execute_result"
    }
   ],
   "source": [
    "df[['genre', 'type']]"
   ]
  },
  {
   "cell_type": "markdown",
   "id": "0f7203a2",
   "metadata": {},
   "source": [
    "## 3-8 크로스 집계\n",
    "    정의 : 여러개 변수의 인과관계를 교차해서 집계하는 분석 기법"
   ]
  },
  {
   "cell_type": "markdown",
   "id": "b0c81edf",
   "metadata": {},
   "source": [
    "#### #groupby 메서드로 집약하기"
   ]
  },
  {
   "cell_type": "code",
   "execution_count": 48,
   "id": "68327255",
   "metadata": {},
   "outputs": [
    {
     "data": {
      "text/plain": [
       "pandas.core.groupby.generic.DataFrameGroupBy"
      ]
     },
     "execution_count": 48,
     "metadata": {},
     "output_type": "execute_result"
    }
   ],
   "source": [
    "#groupby 메서드로 집약하기\n",
    "\n",
    "import os\n",
    "import pandas as pd\n",
    "import numpy as np\n",
    "\n",
    "base_url = 'https://raw.githubusercontent.com/practical-jupyter/sample-data/master/anime/'\n",
    "anime_master_csv = os.path.join(base_url, 'anime_master.csv')\n",
    "df = pd.read_csv(anime_master_csv)\n",
    "\n",
    "grouped = df.groupby('type')\n",
    "type(grouped)"
   ]
  },
  {
   "cell_type": "code",
   "execution_count": 53,
   "id": "157f6190",
   "metadata": {
    "scrolled": true
   },
   "outputs": [
    {
     "data": {
      "text/html": [
       "<div>\n",
       "<style scoped>\n",
       "    .dataframe tbody tr th:only-of-type {\n",
       "        vertical-align: middle;\n",
       "    }\n",
       "\n",
       "    .dataframe tbody tr th {\n",
       "        vertical-align: top;\n",
       "    }\n",
       "\n",
       "    .dataframe thead th {\n",
       "        text-align: right;\n",
       "    }\n",
       "</style>\n",
       "<table border=\"1\" class=\"dataframe\">\n",
       "  <thead>\n",
       "    <tr style=\"text-align: right;\">\n",
       "      <th></th>\n",
       "      <th>anime_id</th>\n",
       "      <th>episodes</th>\n",
       "      <th>rating</th>\n",
       "      <th>members</th>\n",
       "    </tr>\n",
       "    <tr>\n",
       "      <th>type</th>\n",
       "      <th></th>\n",
       "      <th></th>\n",
       "      <th></th>\n",
       "      <th></th>\n",
       "    </tr>\n",
       "  </thead>\n",
       "  <tbody>\n",
       "    <tr>\n",
       "      <th>Movie</th>\n",
       "      <td>31795901</td>\n",
       "      <td>2444</td>\n",
       "      <td>14049.5</td>\n",
       "      <td>23651929</td>\n",
       "    </tr>\n",
       "    <tr>\n",
       "      <th>Music</th>\n",
       "      <td>10910129</td>\n",
       "      <td>546</td>\n",
       "      <td>2708.2</td>\n",
       "      <td>617419</td>\n",
       "    </tr>\n",
       "    <tr>\n",
       "      <th>ONA</th>\n",
       "      <td>13438158</td>\n",
       "      <td>4006</td>\n",
       "      <td>3327.1</td>\n",
       "      <td>2601477</td>\n",
       "    </tr>\n",
       "    <tr>\n",
       "      <th>OVA</th>\n",
       "      <td>23585262</td>\n",
       "      <td>4926</td>\n",
       "      <td>12510.1</td>\n",
       "      <td>13233285</td>\n",
       "    </tr>\n",
       "    <tr>\n",
       "      <th>Special</th>\n",
       "      <td>25489152</td>\n",
       "      <td>3786</td>\n",
       "      <td>9899.3</td>\n",
       "      <td>11263162</td>\n",
       "    </tr>\n",
       "    <tr>\n",
       "      <th>TV</th>\n",
       "      <td>36395417</td>\n",
       "      <td>124729</td>\n",
       "      <td>23073.4</td>\n",
       "      <td>139301607</td>\n",
       "    </tr>\n",
       "  </tbody>\n",
       "</table>\n",
       "</div>"
      ],
      "text/plain": [
       "         anime_id  episodes   rating    members\n",
       "type                                           \n",
       "Movie    31795901      2444  14049.5   23651929\n",
       "Music    10910129       546   2708.2     617419\n",
       "ONA      13438158      4006   3327.1    2601477\n",
       "OVA      23585262      4926  12510.1   13233285\n",
       "Special  25489152      3786   9899.3   11263162\n",
       "TV       36395417    124729  23073.4  139301607"
      ]
     },
     "execution_count": 53,
     "metadata": {},
     "output_type": "execute_result"
    }
   ],
   "source": [
    "# 'type'기준 Group 별 합계를 소수점 한자리로 표현\n",
    "grouped.sum().round(1)"
   ]
  },
  {
   "cell_type": "code",
   "execution_count": 56,
   "id": "c87aeadc",
   "metadata": {
    "scrolled": true
   },
   "outputs": [
    {
     "data": {
      "text/html": [
       "<div>\n",
       "<style scoped>\n",
       "    .dataframe tbody tr th:only-of-type {\n",
       "        vertical-align: middle;\n",
       "    }\n",
       "\n",
       "    .dataframe tbody tr th {\n",
       "        vertical-align: top;\n",
       "    }\n",
       "\n",
       "    .dataframe thead tr th {\n",
       "        text-align: left;\n",
       "    }\n",
       "\n",
       "    .dataframe thead tr:last-of-type th {\n",
       "        text-align: right;\n",
       "    }\n",
       "</style>\n",
       "<table border=\"1\" class=\"dataframe\">\n",
       "  <thead>\n",
       "    <tr>\n",
       "      <th></th>\n",
       "      <th colspan=\"8\" halign=\"left\">anime_id</th>\n",
       "      <th colspan=\"2\" halign=\"left\">episodes</th>\n",
       "      <th>...</th>\n",
       "      <th colspan=\"2\" halign=\"left\">rating</th>\n",
       "      <th colspan=\"8\" halign=\"left\">members</th>\n",
       "    </tr>\n",
       "    <tr>\n",
       "      <th></th>\n",
       "      <th>count</th>\n",
       "      <th>mean</th>\n",
       "      <th>std</th>\n",
       "      <th>min</th>\n",
       "      <th>25%</th>\n",
       "      <th>50%</th>\n",
       "      <th>75%</th>\n",
       "      <th>max</th>\n",
       "      <th>count</th>\n",
       "      <th>mean</th>\n",
       "      <th>...</th>\n",
       "      <th>75%</th>\n",
       "      <th>max</th>\n",
       "      <th>count</th>\n",
       "      <th>mean</th>\n",
       "      <th>std</th>\n",
       "      <th>min</th>\n",
       "      <th>25%</th>\n",
       "      <th>50%</th>\n",
       "      <th>75%</th>\n",
       "      <th>max</th>\n",
       "    </tr>\n",
       "    <tr>\n",
       "      <th>type</th>\n",
       "      <th></th>\n",
       "      <th></th>\n",
       "      <th></th>\n",
       "      <th></th>\n",
       "      <th></th>\n",
       "      <th></th>\n",
       "      <th></th>\n",
       "      <th></th>\n",
       "      <th></th>\n",
       "      <th></th>\n",
       "      <th></th>\n",
       "      <th></th>\n",
       "      <th></th>\n",
       "      <th></th>\n",
       "      <th></th>\n",
       "      <th></th>\n",
       "      <th></th>\n",
       "      <th></th>\n",
       "      <th></th>\n",
       "      <th></th>\n",
       "      <th></th>\n",
       "    </tr>\n",
       "  </thead>\n",
       "  <tbody>\n",
       "    <tr>\n",
       "      <th>Movie</th>\n",
       "      <td>2220.0</td>\n",
       "      <td>14322.5</td>\n",
       "      <td>10925.7</td>\n",
       "      <td>5.0</td>\n",
       "      <td>4396.8</td>\n",
       "      <td>10677.5</td>\n",
       "      <td>24071.5</td>\n",
       "      <td>34201.0</td>\n",
       "      <td>2220.0</td>\n",
       "      <td>1.1</td>\n",
       "      <td>...</td>\n",
       "      <td>7.3</td>\n",
       "      <td>10.0</td>\n",
       "      <td>2220.0</td>\n",
       "      <td>10654.0</td>\n",
       "      <td>31603.6</td>\n",
       "      <td>13.0</td>\n",
       "      <td>119.0</td>\n",
       "      <td>489.5</td>\n",
       "      <td>4239.0</td>\n",
       "      <td>466254.0</td>\n",
       "    </tr>\n",
       "    <tr>\n",
       "      <th>Music</th>\n",
       "      <td>485.0</td>\n",
       "      <td>22495.1</td>\n",
       "      <td>10175.0</td>\n",
       "      <td>731.0</td>\n",
       "      <td>12101.0</td>\n",
       "      <td>24903.0</td>\n",
       "      <td>31925.0</td>\n",
       "      <td>34412.0</td>\n",
       "      <td>485.0</td>\n",
       "      <td>1.1</td>\n",
       "      <td>...</td>\n",
       "      <td>6.2</td>\n",
       "      <td>8.4</td>\n",
       "      <td>485.0</td>\n",
       "      <td>1273.0</td>\n",
       "      <td>4489.0</td>\n",
       "      <td>24.0</td>\n",
       "      <td>97.0</td>\n",
       "      <td>226.0</td>\n",
       "      <td>797.0</td>\n",
       "      <td>71136.0</td>\n",
       "    </tr>\n",
       "    <tr>\n",
       "      <th>ONA</th>\n",
       "      <td>591.0</td>\n",
       "      <td>22738.0</td>\n",
       "      <td>10346.0</td>\n",
       "      <td>574.0</td>\n",
       "      <td>13467.0</td>\n",
       "      <td>25241.0</td>\n",
       "      <td>32287.5</td>\n",
       "      <td>34514.0</td>\n",
       "      <td>591.0</td>\n",
       "      <td>6.8</td>\n",
       "      <td>...</td>\n",
       "      <td>6.4</td>\n",
       "      <td>8.3</td>\n",
       "      <td>591.0</td>\n",
       "      <td>4401.8</td>\n",
       "      <td>12994.9</td>\n",
       "      <td>25.0</td>\n",
       "      <td>108.5</td>\n",
       "      <td>336.0</td>\n",
       "      <td>1890.5</td>\n",
       "      <td>144898.0</td>\n",
       "    </tr>\n",
       "    <tr>\n",
       "      <th>OVA</th>\n",
       "      <td>1932.0</td>\n",
       "      <td>12207.7</td>\n",
       "      <td>10718.7</td>\n",
       "      <td>44.0</td>\n",
       "      <td>2297.2</td>\n",
       "      <td>8965.5</td>\n",
       "      <td>22459.5</td>\n",
       "      <td>34349.0</td>\n",
       "      <td>1932.0</td>\n",
       "      <td>2.5</td>\n",
       "      <td>...</td>\n",
       "      <td>7.1</td>\n",
       "      <td>9.2</td>\n",
       "      <td>1932.0</td>\n",
       "      <td>6849.5</td>\n",
       "      <td>17479.7</td>\n",
       "      <td>17.0</td>\n",
       "      <td>122.0</td>\n",
       "      <td>1027.0</td>\n",
       "      <td>5706.0</td>\n",
       "      <td>305165.0</td>\n",
       "    </tr>\n",
       "    <tr>\n",
       "      <th>Special</th>\n",
       "      <td>1517.0</td>\n",
       "      <td>16802.3</td>\n",
       "      <td>10838.8</td>\n",
       "      <td>191.0</td>\n",
       "      <td>6877.0</td>\n",
       "      <td>15815.0</td>\n",
       "      <td>27821.0</td>\n",
       "      <td>34519.0</td>\n",
       "      <td>1517.0</td>\n",
       "      <td>2.5</td>\n",
       "      <td>...</td>\n",
       "      <td>7.1</td>\n",
       "      <td>8.7</td>\n",
       "      <td>1517.0</td>\n",
       "      <td>7424.6</td>\n",
       "      <td>15666.1</td>\n",
       "      <td>24.0</td>\n",
       "      <td>298.0</td>\n",
       "      <td>1906.0</td>\n",
       "      <td>6978.0</td>\n",
       "      <td>160423.0</td>\n",
       "    </tr>\n",
       "    <tr>\n",
       "      <th>TV</th>\n",
       "      <td>3330.0</td>\n",
       "      <td>10929.6</td>\n",
       "      <td>10645.4</td>\n",
       "      <td>1.0</td>\n",
       "      <td>2112.2</td>\n",
       "      <td>6511.5</td>\n",
       "      <td>18938.5</td>\n",
       "      <td>34503.0</td>\n",
       "      <td>3330.0</td>\n",
       "      <td>37.5</td>\n",
       "      <td>...</td>\n",
       "      <td>7.5</td>\n",
       "      <td>9.3</td>\n",
       "      <td>3330.0</td>\n",
       "      <td>41832.3</td>\n",
       "      <td>89925.6</td>\n",
       "      <td>12.0</td>\n",
       "      <td>443.0</td>\n",
       "      <td>5617.0</td>\n",
       "      <td>41568.2</td>\n",
       "      <td>1013917.0</td>\n",
       "    </tr>\n",
       "  </tbody>\n",
       "</table>\n",
       "<p>6 rows × 32 columns</p>\n",
       "</div>"
      ],
      "text/plain": [
       "        anime_id                                                               \\\n",
       "           count     mean      std    min      25%      50%      75%      max   \n",
       "type                                                                            \n",
       "Movie     2220.0  14322.5  10925.7    5.0   4396.8  10677.5  24071.5  34201.0   \n",
       "Music      485.0  22495.1  10175.0  731.0  12101.0  24903.0  31925.0  34412.0   \n",
       "ONA        591.0  22738.0  10346.0  574.0  13467.0  25241.0  32287.5  34514.0   \n",
       "OVA       1932.0  12207.7  10718.7   44.0   2297.2   8965.5  22459.5  34349.0   \n",
       "Special   1517.0  16802.3  10838.8  191.0   6877.0  15815.0  27821.0  34519.0   \n",
       "TV        3330.0  10929.6  10645.4    1.0   2112.2   6511.5  18938.5  34503.0   \n",
       "\n",
       "        episodes        ... rating       members                          \\\n",
       "           count  mean  ...    75%   max   count     mean      std   min   \n",
       "type                    ...                                                \n",
       "Movie     2220.0   1.1  ...    7.3  10.0  2220.0  10654.0  31603.6  13.0   \n",
       "Music      485.0   1.1  ...    6.2   8.4   485.0   1273.0   4489.0  24.0   \n",
       "ONA        591.0   6.8  ...    6.4   8.3   591.0   4401.8  12994.9  25.0   \n",
       "OVA       1932.0   2.5  ...    7.1   9.2  1932.0   6849.5  17479.7  17.0   \n",
       "Special   1517.0   2.5  ...    7.1   8.7  1517.0   7424.6  15666.1  24.0   \n",
       "TV        3330.0  37.5  ...    7.5   9.3  3330.0  41832.3  89925.6  12.0   \n",
       "\n",
       "                                            \n",
       "           25%     50%      75%        max  \n",
       "type                                        \n",
       "Movie    119.0   489.5   4239.0   466254.0  \n",
       "Music     97.0   226.0    797.0    71136.0  \n",
       "ONA      108.5   336.0   1890.5   144898.0  \n",
       "OVA      122.0  1027.0   5706.0   305165.0  \n",
       "Special  298.0  1906.0   6978.0   160423.0  \n",
       "TV       443.0  5617.0  41568.2  1013917.0  \n",
       "\n",
       "[6 rows x 32 columns]"
      ]
     },
     "execution_count": 56,
     "metadata": {},
     "output_type": "execute_result"
    }
   ],
   "source": [
    "grouped.describe().round(1).head(16)"
   ]
  },
  {
   "cell_type": "code",
   "execution_count": 57,
   "id": "bd50b9ad",
   "metadata": {
    "scrolled": false
   },
   "outputs": [
    {
     "data": {
      "text/html": [
       "<div>\n",
       "<style scoped>\n",
       "    .dataframe tbody tr th:only-of-type {\n",
       "        vertical-align: middle;\n",
       "    }\n",
       "\n",
       "    .dataframe tbody tr th {\n",
       "        vertical-align: top;\n",
       "    }\n",
       "\n",
       "    .dataframe thead th {\n",
       "        text-align: right;\n",
       "    }\n",
       "</style>\n",
       "<table border=\"1\" class=\"dataframe\">\n",
       "  <thead>\n",
       "    <tr style=\"text-align: right;\">\n",
       "      <th></th>\n",
       "      <th></th>\n",
       "      <th>anime_id</th>\n",
       "      <th>rating</th>\n",
       "      <th>members</th>\n",
       "    </tr>\n",
       "    <tr>\n",
       "      <th>type</th>\n",
       "      <th>episodes</th>\n",
       "      <th></th>\n",
       "      <th></th>\n",
       "      <th></th>\n",
       "    </tr>\n",
       "  </thead>\n",
       "  <tbody>\n",
       "    <tr>\n",
       "      <th rowspan=\"12\" valign=\"top\">Movie</th>\n",
       "      <th>1</th>\n",
       "      <td>14320.0</td>\n",
       "      <td>6.3</td>\n",
       "      <td>10588.6</td>\n",
       "    </tr>\n",
       "    <tr>\n",
       "      <th>2</th>\n",
       "      <td>13802.0</td>\n",
       "      <td>6.9</td>\n",
       "      <td>6638.9</td>\n",
       "    </tr>\n",
       "    <tr>\n",
       "      <th>3</th>\n",
       "      <td>11339.3</td>\n",
       "      <td>6.7</td>\n",
       "      <td>53598.1</td>\n",
       "    </tr>\n",
       "    <tr>\n",
       "      <th>4</th>\n",
       "      <td>15723.5</td>\n",
       "      <td>7.3</td>\n",
       "      <td>3566.5</td>\n",
       "    </tr>\n",
       "    <tr>\n",
       "      <th>5</th>\n",
       "      <td>12558.3</td>\n",
       "      <td>6.1</td>\n",
       "      <td>3641.0</td>\n",
       "    </tr>\n",
       "    <tr>\n",
       "      <th>6</th>\n",
       "      <td>8433.5</td>\n",
       "      <td>6.0</td>\n",
       "      <td>178.5</td>\n",
       "    </tr>\n",
       "    <tr>\n",
       "      <th>7</th>\n",
       "      <td>13602.5</td>\n",
       "      <td>6.9</td>\n",
       "      <td>11989.5</td>\n",
       "    </tr>\n",
       "    <tr>\n",
       "      <th>9</th>\n",
       "      <td>8928.0</td>\n",
       "      <td>6.2</td>\n",
       "      <td>267.0</td>\n",
       "    </tr>\n",
       "    <tr>\n",
       "      <th>10</th>\n",
       "      <td>31020.0</td>\n",
       "      <td>6.9</td>\n",
       "      <td>57.0</td>\n",
       "    </tr>\n",
       "    <tr>\n",
       "      <th>12</th>\n",
       "      <td>20908.0</td>\n",
       "      <td>5.4</td>\n",
       "      <td>790.7</td>\n",
       "    </tr>\n",
       "    <tr>\n",
       "      <th>14</th>\n",
       "      <td>13817.0</td>\n",
       "      <td>6.0</td>\n",
       "      <td>137.0</td>\n",
       "    </tr>\n",
       "    <tr>\n",
       "      <th>100</th>\n",
       "      <td>29924.0</td>\n",
       "      <td>7.0</td>\n",
       "      <td>56.0</td>\n",
       "    </tr>\n",
       "    <tr>\n",
       "      <th rowspan=\"8\" valign=\"top\">Music</th>\n",
       "      <th>1</th>\n",
       "      <td>22576.2</td>\n",
       "      <td>5.6</td>\n",
       "      <td>1200.0</td>\n",
       "    </tr>\n",
       "    <tr>\n",
       "      <th>2</th>\n",
       "      <td>28390.8</td>\n",
       "      <td>6.0</td>\n",
       "      <td>404.8</td>\n",
       "    </tr>\n",
       "    <tr>\n",
       "      <th>4</th>\n",
       "      <td>1998.0</td>\n",
       "      <td>6.7</td>\n",
       "      <td>6650.0</td>\n",
       "    </tr>\n",
       "    <tr>\n",
       "      <th>5</th>\n",
       "      <td>14359.0</td>\n",
       "      <td>6.2</td>\n",
       "      <td>1582.0</td>\n",
       "    </tr>\n",
       "    <tr>\n",
       "      <th>7</th>\n",
       "      <td>8348.0</td>\n",
       "      <td>7.1</td>\n",
       "      <td>13361.0</td>\n",
       "    </tr>\n",
       "    <tr>\n",
       "      <th>8</th>\n",
       "      <td>4705.0</td>\n",
       "      <td>7.3</td>\n",
       "      <td>22213.0</td>\n",
       "    </tr>\n",
       "    <tr>\n",
       "      <th>14</th>\n",
       "      <td>5016.0</td>\n",
       "      <td>6.7</td>\n",
       "      <td>2240.0</td>\n",
       "    </tr>\n",
       "    <tr>\n",
       "      <th>24</th>\n",
       "      <td>32633.0</td>\n",
       "      <td>7.6</td>\n",
       "      <td>560.0</td>\n",
       "    </tr>\n",
       "  </tbody>\n",
       "</table>\n",
       "</div>"
      ],
      "text/plain": [
       "                anime_id  rating  members\n",
       "type  episodes                           \n",
       "Movie 1          14320.0     6.3  10588.6\n",
       "      2          13802.0     6.9   6638.9\n",
       "      3          11339.3     6.7  53598.1\n",
       "      4          15723.5     7.3   3566.5\n",
       "      5          12558.3     6.1   3641.0\n",
       "      6           8433.5     6.0    178.5\n",
       "      7          13602.5     6.9  11989.5\n",
       "      9           8928.0     6.2    267.0\n",
       "      10         31020.0     6.9     57.0\n",
       "      12         20908.0     5.4    790.7\n",
       "      14         13817.0     6.0    137.0\n",
       "      100        29924.0     7.0     56.0\n",
       "Music 1          22576.2     5.6   1200.0\n",
       "      2          28390.8     6.0    404.8\n",
       "      4           1998.0     6.7   6650.0\n",
       "      5          14359.0     6.2   1582.0\n",
       "      7           8348.0     7.1  13361.0\n",
       "      8           4705.0     7.3  22213.0\n",
       "      14          5016.0     6.7   2240.0\n",
       "      24         32633.0     7.6    560.0"
      ]
     },
     "execution_count": 57,
     "metadata": {},
     "output_type": "execute_result"
    }
   ],
   "source": [
    "df.groupby(['type', 'episodes']).mean().round(1).head(20)"
   ]
  },
  {
   "cell_type": "markdown",
   "id": "53423de7",
   "metadata": {},
   "source": [
    "#### pivot_table 메서드로 집약하기"
   ]
  },
  {
   "cell_type": "code",
   "execution_count": 58,
   "id": "cdef3ccb",
   "metadata": {
    "scrolled": true
   },
   "outputs": [
    {
     "data": {
      "text/html": [
       "<div>\n",
       "<style scoped>\n",
       "    .dataframe tbody tr th:only-of-type {\n",
       "        vertical-align: middle;\n",
       "    }\n",
       "\n",
       "    .dataframe tbody tr th {\n",
       "        vertical-align: top;\n",
       "    }\n",
       "\n",
       "    .dataframe thead th {\n",
       "        text-align: right;\n",
       "    }\n",
       "</style>\n",
       "<table border=\"1\" class=\"dataframe\">\n",
       "  <thead>\n",
       "    <tr style=\"text-align: right;\">\n",
       "      <th></th>\n",
       "      <th>anime_id</th>\n",
       "      <th>episodes</th>\n",
       "      <th>members</th>\n",
       "      <th>rating</th>\n",
       "    </tr>\n",
       "    <tr>\n",
       "      <th>type</th>\n",
       "      <th></th>\n",
       "      <th></th>\n",
       "      <th></th>\n",
       "      <th></th>\n",
       "    </tr>\n",
       "  </thead>\n",
       "  <tbody>\n",
       "    <tr>\n",
       "      <th>Movie</th>\n",
       "      <td>14322.477928</td>\n",
       "      <td>1.100901</td>\n",
       "      <td>10654.022072</td>\n",
       "      <td>6.328599</td>\n",
       "    </tr>\n",
       "    <tr>\n",
       "      <th>Music</th>\n",
       "      <td>22495.111340</td>\n",
       "      <td>1.125773</td>\n",
       "      <td>1273.028866</td>\n",
       "      <td>5.583918</td>\n",
       "    </tr>\n",
       "    <tr>\n",
       "      <th>ONA</th>\n",
       "      <td>22738.000000</td>\n",
       "      <td>6.778342</td>\n",
       "      <td>4401.822335</td>\n",
       "      <td>5.629628</td>\n",
       "    </tr>\n",
       "    <tr>\n",
       "      <th>OVA</th>\n",
       "      <td>12207.692547</td>\n",
       "      <td>2.549689</td>\n",
       "      <td>6849.526398</td>\n",
       "      <td>6.475217</td>\n",
       "    </tr>\n",
       "    <tr>\n",
       "      <th>Special</th>\n",
       "      <td>16802.341463</td>\n",
       "      <td>2.495715</td>\n",
       "      <td>7424.628873</td>\n",
       "      <td>6.525577</td>\n",
       "    </tr>\n",
       "    <tr>\n",
       "      <th>TV</th>\n",
       "      <td>10929.554655</td>\n",
       "      <td>37.456156</td>\n",
       "      <td>41832.314414</td>\n",
       "      <td>6.928961</td>\n",
       "    </tr>\n",
       "  </tbody>\n",
       "</table>\n",
       "</div>"
      ],
      "text/plain": [
       "             anime_id   episodes       members    rating\n",
       "type                                                    \n",
       "Movie    14322.477928   1.100901  10654.022072  6.328599\n",
       "Music    22495.111340   1.125773   1273.028866  5.583918\n",
       "ONA      22738.000000   6.778342   4401.822335  5.629628\n",
       "OVA      12207.692547   2.549689   6849.526398  6.475217\n",
       "Special  16802.341463   2.495715   7424.628873  6.525577\n",
       "TV       10929.554655  37.456156  41832.314414  6.928961"
      ]
     },
     "execution_count": 58,
     "metadata": {},
     "output_type": "execute_result"
    }
   ],
   "source": [
    "df.pivot_table(index='type', aggfunc=np.mean)"
   ]
  },
  {
   "cell_type": "code",
   "execution_count": 60,
   "id": "c66430d0",
   "metadata": {},
   "outputs": [
    {
     "data": {
      "text/html": [
       "<div>\n",
       "<style scoped>\n",
       "    .dataframe tbody tr th:only-of-type {\n",
       "        vertical-align: middle;\n",
       "    }\n",
       "\n",
       "    .dataframe tbody tr th {\n",
       "        vertical-align: top;\n",
       "    }\n",
       "\n",
       "    .dataframe thead th {\n",
       "        text-align: right;\n",
       "    }\n",
       "</style>\n",
       "<table border=\"1\" class=\"dataframe\">\n",
       "  <thead>\n",
       "    <tr style=\"text-align: right;\">\n",
       "      <th></th>\n",
       "      <th></th>\n",
       "      <th>anime_id</th>\n",
       "      <th>members</th>\n",
       "      <th>rating</th>\n",
       "    </tr>\n",
       "    <tr>\n",
       "      <th>type</th>\n",
       "      <th>episodes</th>\n",
       "      <th></th>\n",
       "      <th></th>\n",
       "      <th></th>\n",
       "    </tr>\n",
       "  </thead>\n",
       "  <tbody>\n",
       "    <tr>\n",
       "      <th rowspan=\"5\" valign=\"top\">Movie</th>\n",
       "      <th>1</th>\n",
       "      <td>14320.010507</td>\n",
       "      <td>10588.556418</td>\n",
       "      <td>6.325464</td>\n",
       "    </tr>\n",
       "    <tr>\n",
       "      <th>2</th>\n",
       "      <td>13802.000000</td>\n",
       "      <td>6638.875000</td>\n",
       "      <td>6.930000</td>\n",
       "    </tr>\n",
       "    <tr>\n",
       "      <th>3</th>\n",
       "      <td>11339.285714</td>\n",
       "      <td>53598.142857</td>\n",
       "      <td>6.661429</td>\n",
       "    </tr>\n",
       "    <tr>\n",
       "      <th>4</th>\n",
       "      <td>15723.500000</td>\n",
       "      <td>3566.500000</td>\n",
       "      <td>7.260000</td>\n",
       "    </tr>\n",
       "    <tr>\n",
       "      <th>5</th>\n",
       "      <td>12558.333333</td>\n",
       "      <td>3641.000000</td>\n",
       "      <td>6.063333</td>\n",
       "    </tr>\n",
       "    <tr>\n",
       "      <th>...</th>\n",
       "      <th>...</th>\n",
       "      <td>...</td>\n",
       "      <td>...</td>\n",
       "      <td>...</td>\n",
       "    </tr>\n",
       "    <tr>\n",
       "      <th rowspan=\"5\" valign=\"top\">TV</th>\n",
       "      <th>1428</th>\n",
       "      <td>8213.000000</td>\n",
       "      <td>194.000000</td>\n",
       "      <td>6.050000</td>\n",
       "    </tr>\n",
       "    <tr>\n",
       "      <th>1471</th>\n",
       "      <td>6277.000000</td>\n",
       "      <td>406.000000</td>\n",
       "      <td>6.480000</td>\n",
       "    </tr>\n",
       "    <tr>\n",
       "      <th>1565</th>\n",
       "      <td>23349.000000</td>\n",
       "      <td>116.000000</td>\n",
       "      <td>5.560000</td>\n",
       "    </tr>\n",
       "    <tr>\n",
       "      <th>1787</th>\n",
       "      <td>2471.000000</td>\n",
       "      <td>14233.000000</td>\n",
       "      <td>7.760000</td>\n",
       "    </tr>\n",
       "    <tr>\n",
       "      <th>1818</th>\n",
       "      <td>12393.000000</td>\n",
       "      <td>160.000000</td>\n",
       "      <td>6.180000</td>\n",
       "    </tr>\n",
       "  </tbody>\n",
       "</table>\n",
       "<p>291 rows × 3 columns</p>\n",
       "</div>"
      ],
      "text/plain": [
       "                    anime_id       members    rating\n",
       "type  episodes                                      \n",
       "Movie 1         14320.010507  10588.556418  6.325464\n",
       "      2         13802.000000   6638.875000  6.930000\n",
       "      3         11339.285714  53598.142857  6.661429\n",
       "      4         15723.500000   3566.500000  7.260000\n",
       "      5         12558.333333   3641.000000  6.063333\n",
       "...                      ...           ...       ...\n",
       "TV    1428       8213.000000    194.000000  6.050000\n",
       "      1471       6277.000000    406.000000  6.480000\n",
       "      1565      23349.000000    116.000000  5.560000\n",
       "      1787       2471.000000  14233.000000  7.760000\n",
       "      1818      12393.000000    160.000000  6.180000\n",
       "\n",
       "[291 rows x 3 columns]"
      ]
     },
     "execution_count": 60,
     "metadata": {},
     "output_type": "execute_result"
    }
   ],
   "source": [
    "df.pivot_table(index=['type', 'episodes'], aggfunc=np.mean)"
   ]
  },
  {
   "cell_type": "markdown",
   "id": "e5e2d4de",
   "metadata": {},
   "source": [
    "#### 크로스 집계하기\n",
    "\n",
    "    type열과 genre열 두 항목에 대한 크로스 집계 진행. 먼저 다음 전처리 진행한다.\n",
    "    1. 콤마로 항복이 분리되어있는 열에서 각 항목의 유일값 추출\n",
    "    2. 원본 DataFrame에서 1의 데이터 추출\n",
    "    3. 2를 결합"
   ]
  },
  {
   "cell_type": "code",
   "execution_count": 63,
   "id": "54ab19ee",
   "metadata": {},
   "outputs": [
    {
     "data": {
      "text/plain": [
       "array(['Action', 'Adventure', 'Cars', 'Comedy', 'Dementia', 'Demons',\n",
       "       'Drama', 'Fantasy', 'Game', 'Harem', 'Historical', 'Horror',\n",
       "       'Josei', 'Kids', 'Magic', 'Martial Arts', 'Mecha', 'Military',\n",
       "       'Music', 'Mystery', 'Parody', 'Police', 'Psychological', 'Romance',\n",
       "       'Samurai', 'School', 'Sci-Fi', 'Seinen', 'Shoujo', 'Shoujo Ai',\n",
       "       'Shounen', 'Shounen Ai', 'Slice of Life', 'Space', 'Sports',\n",
       "       'Super Power', 'Supernatural', 'Thriller', 'Vampire'], dtype=object)"
      ]
     },
     "execution_count": 63,
     "metadata": {},
     "output_type": "execute_result"
    }
   ],
   "source": [
    "# genres 열의 콤마 단락 데이터를 분할\n",
    "genres = df['genre'].map(lambda x: x.split(','))\n",
    "# numpy.array로 2차원부터 1차원 데이터로 수정\n",
    "ser = pd.Series(np.hstack(genres.values))\n",
    "#유니크로 하기\n",
    "unique_genres = ser.str.strip().unique()\n",
    "unique_genres.sort()\n",
    "unique_genres"
   ]
  },
  {
   "cell_type": "code",
   "execution_count": 66,
   "id": "dc9acf5a",
   "metadata": {},
   "outputs": [],
   "source": [
    "# 지정한 장르명을 DataFrame에서 추출\n",
    "def filter_df_by_genre(df, genre):\n",
    "    genre_df = df.loc[df['genre'].map(lambda x: genre in x)].copy()\n",
    "    genre_df['genre'] = genre\n",
    "    return genre_df\n",
    "\n",
    "# 위의 함수를 전부 장르에 대해서 실행\n",
    "genre_df_list = [filter_df_by_genre(df, genre) for genre in unique_genres]\n",
    "# 위의 data를 결합\n",
    "df2 = pd.concat(genre_df_list)\n",
    "# name 열로 소트\n",
    "df2.sort_values('name', inplace=True)\n",
    "\n",
    "# 멤버 수가 많은 장르 톱10\n",
    "top10 = df2.groupby('genre')['members'].sum().sort_values(\n",
    "ascending=False).index[:10]\n",
    "# top10에서 데이터를 추출\n",
    "df2 = df2[df2['genre'].isin(top10)]"
   ]
  },
  {
   "cell_type": "code",
   "execution_count": 70,
   "id": "d44a8c21",
   "metadata": {},
   "outputs": [
    {
     "data": {
      "text/html": [
       "<div>\n",
       "<style scoped>\n",
       "    .dataframe tbody tr th:only-of-type {\n",
       "        vertical-align: middle;\n",
       "    }\n",
       "\n",
       "    .dataframe tbody tr th {\n",
       "        vertical-align: top;\n",
       "    }\n",
       "\n",
       "    .dataframe thead th {\n",
       "        text-align: right;\n",
       "    }\n",
       "</style>\n",
       "<table border=\"1\" class=\"dataframe\">\n",
       "  <thead>\n",
       "    <tr style=\"text-align: right;\">\n",
       "      <th></th>\n",
       "      <th>anime_id</th>\n",
       "      <th>name</th>\n",
       "      <th>genre</th>\n",
       "      <th>type</th>\n",
       "      <th>episodes</th>\n",
       "      <th>rating</th>\n",
       "      <th>members</th>\n",
       "    </tr>\n",
       "  </thead>\n",
       "  <tbody>\n",
       "    <tr>\n",
       "      <th>0</th>\n",
       "      <td>32281</td>\n",
       "      <td>Kimi no Na wa.</td>\n",
       "      <td>Supernatural</td>\n",
       "      <td>Movie</td>\n",
       "      <td>1</td>\n",
       "      <td>9.37</td>\n",
       "      <td>200630</td>\n",
       "    </tr>\n",
       "    <tr>\n",
       "      <th>0</th>\n",
       "      <td>32281</td>\n",
       "      <td>Kimi no Na wa.</td>\n",
       "      <td>Drama</td>\n",
       "      <td>Movie</td>\n",
       "      <td>1</td>\n",
       "      <td>9.37</td>\n",
       "      <td>200630</td>\n",
       "    </tr>\n",
       "    <tr>\n",
       "      <th>0</th>\n",
       "      <td>32281</td>\n",
       "      <td>Kimi no Na wa.</td>\n",
       "      <td>Romance</td>\n",
       "      <td>Movie</td>\n",
       "      <td>1</td>\n",
       "      <td>9.37</td>\n",
       "      <td>200630</td>\n",
       "    </tr>\n",
       "    <tr>\n",
       "      <th>0</th>\n",
       "      <td>32281</td>\n",
       "      <td>Kimi no Na wa.</td>\n",
       "      <td>School</td>\n",
       "      <td>Movie</td>\n",
       "      <td>1</td>\n",
       "      <td>9.37</td>\n",
       "      <td>200630</td>\n",
       "    </tr>\n",
       "  </tbody>\n",
       "</table>\n",
       "</div>"
      ],
      "text/plain": [
       "   anime_id            name         genre   type  episodes  rating  members\n",
       "0     32281  Kimi no Na wa.  Supernatural  Movie         1    9.37   200630\n",
       "0     32281  Kimi no Na wa.         Drama  Movie         1    9.37   200630\n",
       "0     32281  Kimi no Na wa.       Romance  Movie         1    9.37   200630\n",
       "0     32281  Kimi no Na wa.        School  Movie         1    9.37   200630"
      ]
     },
     "execution_count": 70,
     "metadata": {},
     "output_type": "execute_result"
    }
   ],
   "source": [
    "df2.loc[df2['name'] == 'Kimi no Na wa.']"
   ]
  },
  {
   "cell_type": "code",
   "execution_count": 71,
   "id": "82e46cfa",
   "metadata": {},
   "outputs": [
    {
     "data": {
      "text/html": [
       "<div>\n",
       "<style scoped>\n",
       "    .dataframe tbody tr th:only-of-type {\n",
       "        vertical-align: middle;\n",
       "    }\n",
       "\n",
       "    .dataframe tbody tr th {\n",
       "        vertical-align: top;\n",
       "    }\n",
       "\n",
       "    .dataframe thead tr th {\n",
       "        text-align: left;\n",
       "    }\n",
       "\n",
       "    .dataframe thead tr:last-of-type th {\n",
       "        text-align: right;\n",
       "    }\n",
       "</style>\n",
       "<table border=\"1\" class=\"dataframe\">\n",
       "  <thead>\n",
       "    <tr>\n",
       "      <th></th>\n",
       "      <th colspan=\"6\" halign=\"left\">members</th>\n",
       "    </tr>\n",
       "    <tr>\n",
       "      <th>type</th>\n",
       "      <th>Movie</th>\n",
       "      <th>Music</th>\n",
       "      <th>ONA</th>\n",
       "      <th>OVA</th>\n",
       "      <th>Special</th>\n",
       "      <th>TV</th>\n",
       "    </tr>\n",
       "    <tr>\n",
       "      <th>genre</th>\n",
       "      <th></th>\n",
       "      <th></th>\n",
       "      <th></th>\n",
       "      <th></th>\n",
       "      <th></th>\n",
       "      <th></th>\n",
       "    </tr>\n",
       "  </thead>\n",
       "  <tbody>\n",
       "    <tr>\n",
       "      <th>Action</th>\n",
       "      <td>10224960.0</td>\n",
       "      <td>77054.0</td>\n",
       "      <td>524907.0</td>\n",
       "      <td>5793680.0</td>\n",
       "      <td>3412689.0</td>\n",
       "      <td>63364032.0</td>\n",
       "    </tr>\n",
       "    <tr>\n",
       "      <th>Adventure</th>\n",
       "      <td>9485223.0</td>\n",
       "      <td>42829.0</td>\n",
       "      <td>70431.0</td>\n",
       "      <td>2373765.0</td>\n",
       "      <td>2052024.0</td>\n",
       "      <td>27529975.0</td>\n",
       "    </tr>\n",
       "    <tr>\n",
       "      <th>Comedy</th>\n",
       "      <td>7293127.0</td>\n",
       "      <td>20860.0</td>\n",
       "      <td>1477266.0</td>\n",
       "      <td>5614758.0</td>\n",
       "      <td>6659293.0</td>\n",
       "      <td>65420862.0</td>\n",
       "    </tr>\n",
       "    <tr>\n",
       "      <th>Drama</th>\n",
       "      <td>9034099.0</td>\n",
       "      <td>100734.0</td>\n",
       "      <td>188427.0</td>\n",
       "      <td>3043374.0</td>\n",
       "      <td>1915578.0</td>\n",
       "      <td>41011557.0</td>\n",
       "    </tr>\n",
       "    <tr>\n",
       "      <th>Fantasy</th>\n",
       "      <td>8019406.0</td>\n",
       "      <td>43962.0</td>\n",
       "      <td>188937.0</td>\n",
       "      <td>2754224.0</td>\n",
       "      <td>2504131.0</td>\n",
       "      <td>34932563.0</td>\n",
       "    </tr>\n",
       "  </tbody>\n",
       "</table>\n",
       "</div>"
      ],
      "text/plain": [
       "              members                                                       \n",
       "type            Movie     Music        ONA        OVA    Special          TV\n",
       "genre                                                                       \n",
       "Action     10224960.0   77054.0   524907.0  5793680.0  3412689.0  63364032.0\n",
       "Adventure   9485223.0   42829.0    70431.0  2373765.0  2052024.0  27529975.0\n",
       "Comedy      7293127.0   20860.0  1477266.0  5614758.0  6659293.0  65420862.0\n",
       "Drama       9034099.0  100734.0   188427.0  3043374.0  1915578.0  41011557.0\n",
       "Fantasy     8019406.0   43962.0   188937.0  2754224.0  2504131.0  34932563.0"
      ]
     },
     "execution_count": 71,
     "metadata": {},
     "output_type": "execute_result"
    }
   ],
   "source": [
    "df2.pivot_table(index='genre', columns='type',\n",
    "               values=['members'], aggfunc=np.sum).head()"
   ]
  },
  {
   "cell_type": "markdown",
   "id": "c792ced2",
   "metadata": {},
   "source": [
    "# 3-9 시계열 데이터의 처리"
   ]
  },
  {
   "cell_type": "code",
   "execution_count": 1,
   "id": "451fad4b",
   "metadata": {
    "scrolled": true
   },
   "outputs": [
    {
     "data": {
      "text/html": [
       "<div>\n",
       "<style scoped>\n",
       "    .dataframe tbody tr th:only-of-type {\n",
       "        vertical-align: middle;\n",
       "    }\n",
       "\n",
       "    .dataframe tbody tr th {\n",
       "        vertical-align: top;\n",
       "    }\n",
       "\n",
       "    .dataframe thead th {\n",
       "        text-align: right;\n",
       "    }\n",
       "</style>\n",
       "<table border=\"1\" class=\"dataframe\">\n",
       "  <thead>\n",
       "    <tr style=\"text-align: right;\">\n",
       "      <th></th>\n",
       "      <th>TOEI ANIMATION</th>\n",
       "      <th>IG Port</th>\n",
       "    </tr>\n",
       "    <tr>\n",
       "      <th>Date</th>\n",
       "      <th></th>\n",
       "      <th></th>\n",
       "    </tr>\n",
       "  </thead>\n",
       "  <tbody>\n",
       "    <tr>\n",
       "      <th>2015-01-01</th>\n",
       "      <td>3356.86</td>\n",
       "      <td>1201.51</td>\n",
       "    </tr>\n",
       "    <tr>\n",
       "      <th>2015-01-02</th>\n",
       "      <td>3356.86</td>\n",
       "      <td>1201.51</td>\n",
       "    </tr>\n",
       "    <tr>\n",
       "      <th>2015-01-05</th>\n",
       "      <td>3396.12</td>\n",
       "      <td>1218.44</td>\n",
       "    </tr>\n",
       "    <tr>\n",
       "      <th>2015-01-06</th>\n",
       "      <td>3361.77</td>\n",
       "      <td>1201.51</td>\n",
       "    </tr>\n",
       "    <tr>\n",
       "      <th>2015-01-07</th>\n",
       "      <td>3297.97</td>\n",
       "      <td>1202.51</td>\n",
       "    </tr>\n",
       "  </tbody>\n",
       "</table>\n",
       "</div>"
      ],
      "text/plain": [
       "            TOEI ANIMATION  IG Port\n",
       "Date                               \n",
       "2015-01-01         3356.86  1201.51\n",
       "2015-01-02         3356.86  1201.51\n",
       "2015-01-05         3396.12  1218.44\n",
       "2015-01-06         3361.77  1201.51\n",
       "2015-01-07         3297.97  1202.51"
      ]
     },
     "execution_count": 1,
     "metadata": {},
     "output_type": "execute_result"
    }
   ],
   "source": [
    "# 주가 취득하기\n",
    "\n",
    "import os\n",
    "import pandas as pd\n",
    "\n",
    "base_url = 'https://raw.githubusercontent.com/practical-jupyter/sample-data/master/anime/'\n",
    "anime_stock_price_csv = os.path.join(base_url, 'anime_stock_price.csv')\n",
    "df = pd.read_csv(anime_stock_price_csv, index_col=0, parse_dates=['Date'])\n",
    "df.head()"
   ]
  },
  {
   "cell_type": "code",
   "execution_count": 2,
   "id": "2fa2c44f",
   "metadata": {},
   "outputs": [
    {
     "data": {
      "text/plain": [
       "Date\n",
       "2015-01-01         NaN\n",
       "2015-01-02    0.000000\n",
       "2015-01-05    0.011695\n",
       "2015-01-06   -0.010114\n",
       "2015-01-07   -0.018978\n",
       "                ...   \n",
       "2016-12-26    0.001725\n",
       "2016-12-27    0.010326\n",
       "2016-12-28    0.015333\n",
       "2016-12-29    0.013422\n",
       "2016-12-30    0.000000\n",
       "Name: TOEI ANIMATION, Length: 522, dtype: float64"
      ]
     },
     "execution_count": 2,
     "metadata": {},
     "output_type": "execute_result"
    }
   ],
   "source": [
    "# 시계열 데이터로 사용된 함수\n",
    "\n",
    "pd.options.display.max_rows = 10 # pandas로 실행하는 행 수 지정\n",
    "\n",
    "pct_change = df['TOEI ANIMATION'].pct_change()\n",
    "pct_change"
   ]
  },
  {
   "cell_type": "code",
   "execution_count": 3,
   "id": "65929b75",
   "metadata": {},
   "outputs": [
    {
     "data": {
      "text/plain": [
       "Date\n",
       "2015-01-01    1.000000\n",
       "2015-01-02    1.000000\n",
       "2015-01-05    1.011695\n",
       "2015-01-06    1.001463\n",
       "2015-01-07    0.982457\n",
       "                ...   \n",
       "2016-12-26    1.722833\n",
       "2016-12-27    1.740624\n",
       "2016-12-28    1.767312\n",
       "2016-12-29    1.791034\n",
       "2016-12-30    1.791034\n",
       "Name: TOEI ANIMATION, Length: 522, dtype: float64"
      ]
     },
     "execution_count": 3,
     "metadata": {},
     "output_type": "execute_result"
    }
   ],
   "source": [
    "cumulative_returns = (pct_change + 1).cumprod() # 누적값 산출\n",
    "cumulative_returns[0] = 1\n",
    "cumulative_returns"
   ]
  },
  {
   "cell_type": "code",
   "execution_count": 4,
   "id": "6bb0a6f9",
   "metadata": {
    "scrolled": true
   },
   "outputs": [
    {
     "data": {
      "text/plain": [
       "Date\n",
       "2015-01-01         NaN\n",
       "2015-01-02         NaN\n",
       "2015-01-05         NaN\n",
       "2015-01-06         NaN\n",
       "2015-01-07    3353.916\n",
       "                ...   \n",
       "2016-12-26    5793.260\n",
       "2016-12-27    5799.232\n",
       "2016-12-28    5821.132\n",
       "2016-12-29    5868.912\n",
       "2016-12-30    5916.692\n",
       "Name: TOEI ANIMATION, Length: 522, dtype: float64"
      ]
     },
     "execution_count": 4,
     "metadata": {},
     "output_type": "execute_result"
    }
   ],
   "source": [
    "# rolling() 메서드 활용해 데이터 범위 이동시키면서 함수 적용.\n",
    "# 제1인수에 구간을 정수로 지정해 구간에 대해 함수 적용\n",
    "\n",
    "df['TOEI ANIMATION'].rolling(5).mean()"
   ]
  },
  {
   "cell_type": "code",
   "execution_count": 5,
   "id": "7b362346",
   "metadata": {},
   "outputs": [
    {
     "data": {
      "text/plain": [
       "Date\n",
       "2015-01-01         NaN\n",
       "2015-01-02         NaN\n",
       "2015-01-05         NaN\n",
       "2015-01-06         NaN\n",
       "2015-01-07         NaN\n",
       "                ...   \n",
       "2016-12-26    0.158355\n",
       "2016-12-27    0.163235\n",
       "2016-12-28    0.170891\n",
       "2016-12-29    0.172681\n",
       "2016-12-30    0.151983\n",
       "Name: TOEI ANIMATION, Length: 522, dtype: float64"
      ]
     },
     "execution_count": 5,
     "metadata": {},
     "output_type": "execute_result"
    }
   ],
   "source": [
    "# 20일간으 변동성\n",
    "\n",
    "import numpy as np\n",
    "\n",
    "def historical_volatility(x):\n",
    "    logreturns = np.diff(np.log(x))\n",
    "    return np.sqrt(365 * logreturns.var())\n",
    "\n",
    "df['TOEI ANIMATION'].rolling(20).apply(historical_volatility)"
   ]
  },
  {
   "cell_type": "code",
   "execution_count": 26,
   "id": "54f3b75d",
   "metadata": {},
   "outputs": [
    {
     "data": {
      "text/plain": [
       "DatetimeIndex(['2017-01-01 00:00:00', '2017-01-01 01:00:00',\n",
       "               '2017-01-01 02:00:00', '2017-01-01 03:00:00',\n",
       "               '2017-01-01 04:00:00', '2017-01-01 05:00:00',\n",
       "               '2017-01-01 06:00:00', '2017-01-01 07:00:00',\n",
       "               '2017-01-01 08:00:00', '2017-01-01 09:00:00',\n",
       "               ...\n",
       "               '2017-01-31 15:00:00', '2017-01-31 16:00:00',\n",
       "               '2017-01-31 17:00:00', '2017-01-31 18:00:00',\n",
       "               '2017-01-31 19:00:00', '2017-01-31 20:00:00',\n",
       "               '2017-01-31 21:00:00', '2017-01-31 22:00:00',\n",
       "               '2017-01-31 23:00:00', '2017-02-01 00:00:00'],\n",
       "              dtype='datetime64[ns]', length=745, freq='H')"
      ]
     },
     "execution_count": 26,
     "metadata": {},
     "output_type": "execute_result"
    }
   ],
   "source": [
    "# Datetimeindex\n",
    "# pandas.date_range() 함수는 지정한 주기(표준설정 1일)의 DatetimeIndex를 작성한다\n",
    "\n",
    "# 2017년 1월 1일부터 2017년 2월 1일까지 기간에 대하여 1시간 단위로 DatetimeIndex 작성\n",
    "ix = pd.date_range('2017-01', '2017-02', freq='1h')\n",
    "ix"
   ]
  },
  {
   "cell_type": "code",
   "execution_count": 28,
   "id": "cdb493aa",
   "metadata": {},
   "outputs": [
    {
     "data": {
      "text/plain": [
       "2017-01-01 00:00:00      0\n",
       "2017-01-01 01:00:00      1\n",
       "2017-01-01 02:00:00      2\n",
       "2017-01-01 03:00:00      3\n",
       "2017-01-01 04:00:00      4\n",
       "                      ... \n",
       "2017-01-31 20:00:00    740\n",
       "2017-01-31 21:00:00    741\n",
       "2017-01-31 22:00:00    742\n",
       "2017-01-31 23:00:00    743\n",
       "2017-02-01 00:00:00    744\n",
       "Freq: H, Length: 745, dtype: int64"
      ]
     },
     "execution_count": 28,
     "metadata": {},
     "output_type": "execute_result"
    }
   ],
   "source": [
    "# Series의 인덱스로 사용하는 경우\n",
    "time_series = pd.Series(np.arange(len(ix)), index=ix)\n",
    "time_series"
   ]
  },
  {
   "cell_type": "code",
   "execution_count": 30,
   "id": "a163b189",
   "metadata": {},
   "outputs": [
    {
     "data": {
      "text/plain": [
       "TOEI ANIMATION    5699.74\n",
       "IG Port            822.66\n",
       "Name: 2016-01-04 00:00:00, dtype: float64"
      ]
     },
     "execution_count": 30,
     "metadata": {},
     "output_type": "execute_result"
    }
   ],
   "source": [
    "# 시계열 데이터를 추출하기\n",
    "\n",
    "from datetime import datetime\n",
    "df.loc[datetime(2016, 1, 4)]"
   ]
  },
  {
   "cell_type": "code",
   "execution_count": 31,
   "id": "4571f0e6",
   "metadata": {},
   "outputs": [
    {
     "data": {
      "text/plain": [
       "TOEI ANIMATION    5699.74\n",
       "IG Port            822.66\n",
       "Name: 2016-01-04 00:00:00, dtype: float64"
      ]
     },
     "execution_count": 31,
     "metadata": {},
     "output_type": "execute_result"
    }
   ],
   "source": [
    "# 인덱서에 문자열을 지정하는 경우\n",
    "df.loc['2016-01-04']"
   ]
  },
  {
   "cell_type": "code",
   "execution_count": 32,
   "id": "d3f64489",
   "metadata": {},
   "outputs": [
    {
     "data": {
      "text/plain": [
       "TOEI ANIMATION    5699.74\n",
       "IG Port            822.66\n",
       "Name: 2016-01-04 00:00:00, dtype: float64"
      ]
     },
     "execution_count": 32,
     "metadata": {},
     "output_type": "execute_result"
    }
   ],
   "source": [
    "df.loc['Jan-04-2016']"
   ]
  },
  {
   "cell_type": "code",
   "execution_count": 33,
   "id": "b5ef2fbd",
   "metadata": {
    "scrolled": true
   },
   "outputs": [
    {
     "name": "stdout",
     "output_type": "stream",
     "text": [
      "            TOEI ANIMATION  IG Port\n",
      "Date                               \n",
      "2015-01-01         3356.86  1201.51\n",
      "2015-01-02         3356.86  1201.51\n",
      "2015-01-05         3396.12  1218.44\n",
      "2015-01-06         3361.77  1201.51\n",
      "2015-01-07         3297.97  1202.51\n"
     ]
    }
   ],
   "source": [
    "# 특정 년도나 월의 데이터만 추출하는 경우\n",
    "print(df.loc['2015'].head())"
   ]
  },
  {
   "cell_type": "code",
   "execution_count": 34,
   "id": "5a6d7dee",
   "metadata": {
    "scrolled": true
   },
   "outputs": [
    {
     "name": "stdout",
     "output_type": "stream",
     "text": [
      "            TOEI ANIMATION  IG Port\n",
      "Date                               \n",
      "2016-05-02         4703.29   933.34\n",
      "2016-05-03         4703.29   933.34\n",
      "2016-05-04         4703.29   933.34\n",
      "2016-05-05         4703.29   933.34\n",
      "2016-05-06         4678.41   953.28\n"
     ]
    }
   ],
   "source": [
    "print(df.loc['2016-05'].head())"
   ]
  },
  {
   "cell_type": "code",
   "execution_count": 35,
   "id": "54e3d25f",
   "metadata": {},
   "outputs": [
    {
     "name": "stdout",
     "output_type": "stream",
     "text": [
      "            TOEI ANIMATION  IG Port\n",
      "Date                               \n",
      "2015-12-01         5947.13   910.41\n",
      "2015-12-02         5917.44   896.45\n",
      "2015-12-03         5917.44   893.46\n",
      "2015-12-04         5867.97   888.47\n",
      "2015-12-07         5917.44   892.46\n",
      "...                    ...      ...\n",
      "2016-01-25         5452.36   704.99\n",
      "2016-01-26         5491.94   702.00\n",
      "2016-01-27         5521.63   721.94\n",
      "2016-01-28         5679.95   733.91\n",
      "2016-01-29         5670.06   739.89\n",
      "\n",
      "[44 rows x 2 columns]\n"
     ]
    }
   ],
   "source": [
    "# 년, 월 등을 지정해서 슬라이스하는 경우\n",
    "print(df.loc['2015-12':'2016-01'])"
   ]
  },
  {
   "cell_type": "code",
   "execution_count": 42,
   "id": "c6df3d44",
   "metadata": {},
   "outputs": [
    {
     "data": {
      "text/plain": [
       "2017-01-01 22:00:00     22\n",
       "2017-01-02 22:00:00     46\n",
       "2017-01-03 22:00:00     70\n",
       "2017-01-04 22:00:00     94\n",
       "2017-01-05 22:00:00    118\n",
       "                      ... \n",
       "2017-01-27 22:00:00    646\n",
       "2017-01-28 22:00:00    670\n",
       "2017-01-29 22:00:00    694\n",
       "2017-01-30 22:00:00    718\n",
       "2017-01-31 22:00:00    742\n",
       "Freq: 24H, Length: 31, dtype: int64"
      ]
     },
     "execution_count": 42,
     "metadata": {},
     "output_type": "execute_result"
    }
   ],
   "source": [
    "# 지정한 시각만의 데이터를 추출하는 경우\n",
    "#22시 데이터 추출\n",
    "from datetime import time\n",
    "time_series.loc[time(22,0)]"
   ]
  },
  {
   "cell_type": "code",
   "execution_count": 43,
   "id": "cd3c3ea9",
   "metadata": {
    "scrolled": true
   },
   "outputs": [
    {
     "data": {
      "text/plain": [
       "2017-01-01 09:00:00      9\n",
       "2017-01-01 10:00:00     10\n",
       "2017-01-01 11:00:00     11\n",
       "2017-01-01 12:00:00     12\n",
       "2017-01-02 09:00:00     33\n",
       "                      ... \n",
       "2017-01-30 12:00:00    708\n",
       "2017-01-31 09:00:00    729\n",
       "2017-01-31 10:00:00    730\n",
       "2017-01-31 11:00:00    731\n",
       "2017-01-31 12:00:00    732\n",
       "Length: 124, dtype: int64"
      ]
     },
     "execution_count": 43,
     "metadata": {},
     "output_type": "execute_result"
    }
   ],
   "source": [
    "# 지정한 시간대만 추출하는 경우\n",
    "time_series.between_time(time(9,0), time(12,0))"
   ]
  },
  {
   "cell_type": "code",
   "execution_count": 46,
   "id": "0fa099a6",
   "metadata": {},
   "outputs": [
    {
     "data": {
      "text/plain": [
       "Date\n",
       "2015-01-31    3647.080000\n",
       "2015-02-28    3612.302500\n",
       "2015-03-31    3625.770455\n",
       "2015-04-30    3477.555455\n",
       "2015-05-31    3653.990476\n",
       "Freq: M, Name: TOEI ANIMATION, dtype: float64"
      ]
     },
     "execution_count": 46,
     "metadata": {},
     "output_type": "execute_result"
    }
   ],
   "source": [
    "# Resampling\n",
    "# resample() 메서드를 이용해 시계열 데이터의 빈도 변환 가능.\n",
    "df['TOEI ANIMATION'].resample('M').mean().head()"
   ]
  },
  {
   "cell_type": "code",
   "execution_count": 50,
   "id": "02d66e2c",
   "metadata": {
    "scrolled": true
   },
   "outputs": [
    {
     "data": {
      "text/html": [
       "<div>\n",
       "<style scoped>\n",
       "    .dataframe tbody tr th:only-of-type {\n",
       "        vertical-align: middle;\n",
       "    }\n",
       "\n",
       "    .dataframe tbody tr th {\n",
       "        vertical-align: top;\n",
       "    }\n",
       "\n",
       "    .dataframe thead th {\n",
       "        text-align: right;\n",
       "    }\n",
       "</style>\n",
       "<table border=\"1\" class=\"dataframe\">\n",
       "  <thead>\n",
       "    <tr style=\"text-align: right;\">\n",
       "      <th></th>\n",
       "      <th>open</th>\n",
       "      <th>high</th>\n",
       "      <th>low</th>\n",
       "      <th>close</th>\n",
       "    </tr>\n",
       "    <tr>\n",
       "      <th>Date</th>\n",
       "      <th></th>\n",
       "      <th></th>\n",
       "      <th></th>\n",
       "      <th></th>\n",
       "    </tr>\n",
       "  </thead>\n",
       "  <tbody>\n",
       "    <tr>\n",
       "      <th>2015-01-04</th>\n",
       "      <td>3356.86</td>\n",
       "      <td>3356.86</td>\n",
       "      <td>3356.86</td>\n",
       "      <td>3356.86</td>\n",
       "    </tr>\n",
       "    <tr>\n",
       "      <th>2015-01-11</th>\n",
       "      <td>3396.12</td>\n",
       "      <td>3513.90</td>\n",
       "      <td>3297.97</td>\n",
       "      <td>3513.90</td>\n",
       "    </tr>\n",
       "    <tr>\n",
       "      <th>2015-01-18</th>\n",
       "      <td>3513.90</td>\n",
       "      <td>3872.16</td>\n",
       "      <td>3435.38</td>\n",
       "      <td>3872.16</td>\n",
       "    </tr>\n",
       "    <tr>\n",
       "      <th>2015-01-25</th>\n",
       "      <td>3877.07</td>\n",
       "      <td>3877.07</td>\n",
       "      <td>3739.66</td>\n",
       "      <td>3739.66</td>\n",
       "    </tr>\n",
       "    <tr>\n",
       "      <th>2015-02-01</th>\n",
       "      <td>3774.01</td>\n",
       "      <td>3965.41</td>\n",
       "      <td>3774.01</td>\n",
       "      <td>3965.41</td>\n",
       "    </tr>\n",
       "  </tbody>\n",
       "</table>\n",
       "</div>"
      ],
      "text/plain": [
       "               open     high      low    close\n",
       "Date                                          \n",
       "2015-01-04  3356.86  3356.86  3356.86  3356.86\n",
       "2015-01-11  3396.12  3513.90  3297.97  3513.90\n",
       "2015-01-18  3513.90  3872.16  3435.38  3872.16\n",
       "2015-01-25  3877.07  3877.07  3739.66  3739.66\n",
       "2015-02-01  3774.01  3965.41  3774.01  3965.41"
      ]
     },
     "execution_count": 50,
     "metadata": {},
     "output_type": "execute_result"
    }
   ],
   "source": [
    "# ohlc() 메서드 활용해 open, high, low, close 값 변환 가능\n",
    "df['TOEI ANIMATION'].resample('W').ohlc().head()"
   ]
  },
  {
   "cell_type": "markdown",
   "id": "40fa04b4",
   "metadata": {},
   "source": [
    "# 3-10 데이터 시각화\n",
    "    pandas의 Series 또는 DataFrame의 plot() 메서드를 사용해 시각화 할 수 있다. plot() 메서드는 내부에서 Matplotlib을 사용하고 있음."
   ]
  },
  {
   "cell_type": "markdown",
   "id": "48d097ab",
   "metadata": {},
   "source": [
    "#### Notebook에 그래프 표시하기"
   ]
  },
  {
   "cell_type": "code",
   "execution_count": 34,
   "id": "a97ffde6",
   "metadata": {},
   "outputs": [
    {
     "data": {
      "image/png": "[encoded data removed]",
      "text/plain": [
       "<Figure size 432x288 with 1 Axes>"
      ]
     },
     "metadata": {
      "needs_background": "light"
     },
     "output_type": "display_data"
    }
   ],
   "source": [
    "import pandas as pd\n",
    "import matplotlib.pyplot as plt\n",
    "\n",
    "ax = pd.Series([1, 2, 3]).plot()\n",
    "ax.set_title('Line Chart')\n",
    "plt.show()"
   ]
  },
  {
   "cell_type": "code",
   "execution_count": 54,
   "id": "1a80772c",
   "metadata": {},
   "outputs": [],
   "source": [
    "#스타일 변경\n",
    "plt.style.use('ggplot')"
   ]
  },
  {
   "cell_type": "code",
   "execution_count": 56,
   "id": "acc99455",
   "metadata": {},
   "outputs": [
    {
     "data": {
      "image/png": "[encoded data removed]",
      "text/plain": [
       "<Figure size 432x288 with 1 Axes>"
      ]
     },
     "metadata": {},
     "output_type": "display_data"
    }
   ],
   "source": [
    "# Series에서 플롯하기\n",
    "# 인덱스가 x값, 값(데이터)이 Y값이 된다\n",
    "\n",
    "ser = pd.Series([1, 2, 3])\n",
    "ax = ser.plot()\n",
    "ax.set_title('Line Chart')\n",
    "plt.show()"
   ]
  },
  {
   "cell_type": "code",
   "execution_count": 57,
   "id": "d60951b2",
   "metadata": {},
   "outputs": [
    {
     "data": {
      "image/png": "[encoded data removed]",
      "text/plain": [
       "<Figure size 432x288 with 1 Axes>"
      ]
     },
     "metadata": {},
     "output_type": "display_data"
    }
   ],
   "source": [
    "# DataFrame에서 플롯하기\n",
    "\n",
    "df = pd.DataFrame({'a': [1, 2, 3], 'b':[3, 2, 1]})\n",
    "ax = df.plot()\n",
    "ax.set_title('Line Chart')\n",
    "plt.show()"
   ]
  },
  {
   "cell_type": "code",
   "execution_count": 36,
   "id": "7f7ba654",
   "metadata": {
    "scrolled": true
   },
   "outputs": [
    {
     "data": {
      "image/png": "[encoded data removed]",
      "text/plain": [
       "<Figure size 432x288 with 1 Axes>"
      ]
     },
     "metadata": {
      "needs_background": "light"
     },
     "output_type": "display_data"
    }
   ],
   "source": [
    "# 꺾은선 그래프 작성하기\n",
    "\n",
    "import os\n",
    "\n",
    "base_url = 'https://raw.githubusercontent.com/practical-jupyter/sample-data/master/anime/'\n",
    "anime_stock_returns_csv = os.path.join(base_url, 'anime_stock_returns.csv')\n",
    "anime_stock_returns_df = pd.read_csv(anime_stock_returns_csv, index_col = 0)\n",
    "ax = anime_stock_returns_df.plot()\n",
    "ax.set_title('stock returns')\n",
    "plt.show()"
   ]
  },
  {
   "cell_type": "markdown",
   "id": "29219901",
   "metadata": {},
   "source": [
    "#### Y축 범위가 다른 경우\n",
    "    plot() 메서드 키워드 인수 secondary_y에 두 번째 축이 되는 열 이름을 리스트 형으로 지정."
   ]
  },
  {
   "cell_type": "code",
   "execution_count": 35,
   "id": "8f2381c1",
   "metadata": {
    "scrolled": true
   },
   "outputs": [
    {
     "data": {
      "image/png": "[encoded data removed]",
      "text/plain": [
       "<Figure size 432x288 with 2 Axes>"
      ]
     },
     "metadata": {
      "needs_background": "light"
     },
     "output_type": "display_data"
    }
   ],
   "source": [
    "anime_stock_price_csv = os.path.join(base_url, 'anime_stock_price.csv')\n",
    "anime_stock_price_df = pd.read_csv(anime_stock_price_csv, index_col=0)\n",
    "ax = anime_stock_price_df.plot(secondary_y = ['IG Port'])\n",
    "ax.set_title('secondary_y')\n",
    "ax.set_ylabel('TOEI ANIMATION')\n",
    "ax.right_ax.set_ylabel('IG Port')\n",
    "plt.show()\n"
   ]
  },
  {
   "cell_type": "markdown",
   "id": "92a4a9ac",
   "metadata": {},
   "source": [
    "#### 복수의 그림에 분할하는 방법\n",
    "    plot() 메서드의 키워드 인수 subplots에 True를 설정"
   ]
  },
  {
   "cell_type": "code",
   "execution_count": 43,
   "id": "e740f23f",
   "metadata": {},
   "outputs": [
    {
     "data": {
      "image/png": "[encoded data removed]",
      "text/plain": [
       "<Figure size 432x288 with 2 Axes>"
      ]
     },
     "metadata": {
      "needs_background": "light"
     },
     "output_type": "display_data"
    }
   ],
   "source": [
    "ax1, ax2 = anime_stock_price_df.plot(subplots=True)\n",
    "ax1.set_title('subplot1')\n",
    "ax2.set_title('subplot2')\n",
    "plt.show()"
   ]
  },
  {
   "cell_type": "markdown",
   "id": "247c243f",
   "metadata": {},
   "source": [
    "### 산포도 그래프 작성하기\n",
    "    plot.scatter() 메서드를 사용한다. 키워드 인수 x에 X값이 되는 열 이름, 키워드 인수 y에 Y 값이 되는 열 이름을 지정한다"
   ]
  },
  {
   "cell_type": "code",
   "execution_count": 44,
   "id": "59c2d91c",
   "metadata": {
    "scrolled": true
   },
   "outputs": [
    {
     "data": {
      "image/png": "[encoded data removed]",
      "text/plain": [
       "<Figure size 432x288 with 1 Axes>"
      ]
     },
     "metadata": {
      "needs_background": "light"
     },
     "output_type": "display_data"
    }
   ],
   "source": [
    "anime_master_csv = os.path.join(base_url, 'anime_master.csv')\n",
    "anime_master_df = pd.read_csv(anime_master_csv)\n",
    "ax = anime_master_df.plot.scatter(x='members', y='rating')\n",
    "ax.set_title('Scatter')\n",
    "plt.show()"
   ]
  },
  {
   "cell_type": "markdown",
   "id": "531301a9",
   "metadata": {},
   "source": [
    "### 막대그래프 작성하기\n",
    "    plot.bar() 메서드 활용"
   ]
  },
  {
   "cell_type": "code",
   "execution_count": 45,
   "id": "5aeed9d2",
   "metadata": {
    "scrolled": true
   },
   "outputs": [
    {
     "data": {
      "image/png": "[encoded data removed]",
      "text/plain": [
       "<Figure size 432x288 with 1 Axes>"
      ]
     },
     "metadata": {
      "needs_background": "light"
     },
     "output_type": "display_data"
    }
   ],
   "source": [
    "anime_genre_top10_pivoted_csv = os.path.join(base_url, 'anime_genre_top10_pivoted.csv')\n",
    "anime_genre_top10_pivoted_df = pd.read_csv(anime_genre_top10_pivoted_csv, index_col=0)\n",
    "ax = anime_genre_top10_pivoted_df.plot.bar()\n",
    "plt.show()"
   ]
  },
  {
   "cell_type": "markdown",
   "id": "0bf1327a",
   "metadata": {},
   "source": [
    "#### 로그축으로 변경하는 경우\n",
    "    plot.bar() 메서드의 키워드 인수 logy에 True를 설정하면 Y축이 로그가 됨.\n",
    "    legend() 메서드의 키워드 인수 bbox_to_anchor을 설정해 범례의 위치 조정 가능"
   ]
  },
  {
   "cell_type": "code",
   "execution_count": null,
   "id": "88705d9f",
   "metadata": {},
   "outputs": [],
   "source": []
  },
  {
   "cell_type": "code",
   "execution_count": 55,
   "id": "843a3e08",
   "metadata": {
    "scrolled": true
   },
   "outputs": [
    {
     "data": {
      "image/png": "[encoded data removed]",
      "text/plain": [
       "<Figure size 432x288 with 1 Axes>"
      ]
     },
     "metadata": {
      "needs_background": "light"
     },
     "output_type": "display_data"
    }
   ],
   "source": [
    "ax = anime_genre_top10_pivoted_df.plot.bar(logy=True)\n",
    "ax.legend(bbox_to_anchor=(2,0)) ##범례 위치 x, y\n",
    "plt.show()"
   ]
  },
  {
   "cell_type": "markdown",
   "id": "e6208984",
   "metadata": {},
   "source": [
    "#### 누적 막대그래프로 하는 경우\n",
    "    plot.bar() 메서드의 키워드 인수 stacked에 True를 설정"
   ]
  },
  {
   "cell_type": "code",
   "execution_count": 58,
   "id": "8d16bb5e",
   "metadata": {},
   "outputs": [
    {
     "data": {
      "image/png": "[encoded data removed]",
      "text/plain": [
       "<Figure size 432x288 with 1 Axes>"
      ]
     },
     "metadata": {
      "needs_background": "light"
     },
     "output_type": "display_data"
    }
   ],
   "source": [
    "ax = anime_genre_top10_pivoted_df.plot.bar(stacked=True)\n",
    "ax.set_title('stacked')\n",
    "plt.show()"
   ]
  },
  {
   "cell_type": "markdown",
   "id": "43d5751b",
   "metadata": {},
   "source": [
    "### 히스토그램 작성하기\n",
    "    hist() 메서드를 사용함. 키워드 인수 bins에 정수값을 설정하여 막대 수를 변경"
   ]
  },
  {
   "cell_type": "code",
   "execution_count": 62,
   "id": "551735d9",
   "metadata": {
    "scrolled": false
   },
   "outputs": [
    {
     "data": {
      "image/png": "[encoded data removed]",
      "text/plain": [
       "<Figure size 432x288 with 1 Axes>"
      ]
     },
     "metadata": {
      "needs_background": "light"
     },
     "output_type": "display_data"
    }
   ],
   "source": [
    "ax = anime_master_df['rating'].hist(bins=1000)\n",
    "ax.set_title('Histogram')\n",
    "plt.show()"
   ]
  },
  {
   "cell_type": "markdown",
   "id": "f7621203",
   "metadata": {},
   "source": [
    "### 상자수염 그래프 작성하기\n",
    "    plot.box() 메서드를 사용한다"
   ]
  },
  {
   "cell_type": "code",
   "execution_count": 63,
   "id": "9ec03c06",
   "metadata": {
    "scrolled": true
   },
   "outputs": [
    {
     "data": {
      "image/png": "[encoded data removed]",
      "text/plain": [
       "<Figure size 432x288 with 1 Axes>"
      ]
     },
     "metadata": {
      "needs_background": "light"
     },
     "output_type": "display_data"
    }
   ],
   "source": [
    "ax = anime_genre_top10_pivoted_df.plot.box()\n",
    "ax.set_title('Box Plot')\n",
    "plt.show()"
   ]
  },
  {
   "cell_type": "markdown",
   "id": "acc93f58",
   "metadata": {},
   "source": [
    "### 원 그래프 작성하기\n",
    "    plot.pie() 메서드 사용. 기본 설정에는 타원으로 그려지기 때문에 pie() 메서드의 키워드 인수 figsize에 그림의 사이즈를 지정함"
   ]
  },
  {
   "cell_type": "code",
   "execution_count": 74,
   "id": "69d321df",
   "metadata": {},
   "outputs": [
    {
     "data": {
      "image/png": "[encoded data removed]",
      "text/plain": [
       "<Figure size 360x432 with 1 Axes>"
      ]
     },
     "metadata": {},
     "output_type": "display_data"
    }
   ],
   "source": [
    "anime_genre_top10_csv = os.path.join(base_url, 'anime_genre_top10.csv')\n",
    "anime_genre_top10_df = pd.read_csv(anime_genre_top10_csv)\n",
    "ax = anime_genre_top10_df.groupby('genre').sum()['members'].plot.pie(figsize=(5, 6))\n",
    "ax.set_title('Pie Chart')\n",
    "ax.set_ylabel('') # Y축 레이블 삭제\n",
    "plt.show()"
   ]
  }
 ],
 "metadata": {
  "kernelspec": {
   "display_name": "Python 3",
   "language": "python",
   "name": "python3"
  },
  "language_info": {
   "codemirror_mode": {
    "name": "ipython",
    "version": 3
   },
   "file_extension": ".py",
   "mimetype": "text/x-python",
   "name": "python",
   "nbconvert_exporter": "python",
   "pygments_lexer": "ipython3",
   "version": "3.8.8"
  },
  "latex_envs": {
   "LaTeX_envs_menu_present": true,
   "autoclose": false,
   "autocomplete": true,
   "bibliofile": "biblio.bib",
   "cite_by": "apalike",
   "current_citInitial": 1,
   "eqLabelWithNumbers": true,
   "eqNumInitial": 1,
   "hotkeys": {
    "equation": "Ctrl-E",
    "itemize": "Ctrl-I"
   },
   "labels_anchors": false,
   "latex_user_defs": false,
   "report_style_numbering": false,
   "user_envs_cfg": false
  }
 },
 "nbformat": 4,
 "nbformat_minor": 5
}
